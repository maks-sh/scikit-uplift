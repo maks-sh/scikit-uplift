{
 "cells": [
  {
   "cell_type": "markdown",
   "metadata": {},
   "source": [
    "# 🎯 Uplift model selection"
   ]
  },
  {
   "cell_type": "markdown",
   "metadata": {},
   "source": [
    "#  [MegaFon Uplift Competition](https://ods.ai/competitions/megafon-df21-comp)"
   ]
  },
  {
   "cell_type": "markdown",
   "metadata": {},
   "source": [
    "## problem №1: predict the uplift by user's feature vector"
   ]
  },
  {
   "cell_type": "code",
   "execution_count": 1,
   "metadata": {},
   "outputs": [],
   "source": [
    "import pandas as pd\n",
    "import numpy as np\n",
    "\n",
    "from sklearn.model_selection import train_test_split, StratifiedShuffleSplit, cross_validate, GridSearchCV\n",
    "from catboost import CatBoostClassifier\n",
    "from sklift.models import SoloModel\n",
    "from sklift.viz import plot_qini_curve"
   ]
  },
  {
   "cell_type": "code",
   "execution_count": 2,
   "metadata": {},
   "outputs": [
    {
     "data": {
      "text/html": [
       "<div>\n",
       "<style scoped>\n",
       "    .dataframe tbody tr th:only-of-type {\n",
       "        vertical-align: middle;\n",
       "    }\n",
       "\n",
       "    .dataframe tbody tr th {\n",
       "        vertical-align: top;\n",
       "    }\n",
       "\n",
       "    .dataframe thead th {\n",
       "        text-align: right;\n",
       "    }\n",
       "</style>\n",
       "<table border=\"1\" class=\"dataframe\">\n",
       "  <thead>\n",
       "    <tr style=\"text-align: right;\">\n",
       "      <th></th>\n",
       "      <th>id</th>\n",
       "      <th>treatment_group</th>\n",
       "      <th>X_1</th>\n",
       "      <th>X_2</th>\n",
       "      <th>X_3</th>\n",
       "      <th>X_4</th>\n",
       "      <th>X_5</th>\n",
       "      <th>X_6</th>\n",
       "      <th>X_7</th>\n",
       "      <th>X_8</th>\n",
       "      <th>...</th>\n",
       "      <th>X_42</th>\n",
       "      <th>X_43</th>\n",
       "      <th>X_44</th>\n",
       "      <th>X_45</th>\n",
       "      <th>X_46</th>\n",
       "      <th>X_47</th>\n",
       "      <th>X_48</th>\n",
       "      <th>X_49</th>\n",
       "      <th>X_50</th>\n",
       "      <th>conversion</th>\n",
       "    </tr>\n",
       "  </thead>\n",
       "  <tbody>\n",
       "    <tr>\n",
       "      <th>0</th>\n",
       "      <td>0</td>\n",
       "      <td>control</td>\n",
       "      <td>39.396577</td>\n",
       "      <td>-0.186548</td>\n",
       "      <td>19.524505</td>\n",
       "      <td>21.250208</td>\n",
       "      <td>55.291264</td>\n",
       "      <td>182.966712</td>\n",
       "      <td>-5.385606</td>\n",
       "      <td>144.573379</td>\n",
       "      <td>...</td>\n",
       "      <td>134.363458</td>\n",
       "      <td>-213.584582</td>\n",
       "      <td>-2.092461</td>\n",
       "      <td>-93.973258</td>\n",
       "      <td>-0.155597</td>\n",
       "      <td>-312.130733</td>\n",
       "      <td>44.798182</td>\n",
       "      <td>-125.682413</td>\n",
       "      <td>16.231365</td>\n",
       "      <td>0</td>\n",
       "    </tr>\n",
       "    <tr>\n",
       "      <th>1</th>\n",
       "      <td>1</td>\n",
       "      <td>control</td>\n",
       "      <td>38.987694</td>\n",
       "      <td>0.819522</td>\n",
       "      <td>-42.064512</td>\n",
       "      <td>-48.270949</td>\n",
       "      <td>-33.171257</td>\n",
       "      <td>179.459341</td>\n",
       "      <td>-87.151810</td>\n",
       "      <td>-162.693257</td>\n",
       "      <td>...</td>\n",
       "      <td>72.864779</td>\n",
       "      <td>559.783584</td>\n",
       "      <td>1.142391</td>\n",
       "      <td>80.037124</td>\n",
       "      <td>-1.216185</td>\n",
       "      <td>-111.473936</td>\n",
       "      <td>-127.737977</td>\n",
       "      <td>-117.501171</td>\n",
       "      <td>10.732234</td>\n",
       "      <td>0</td>\n",
       "    </tr>\n",
       "    <tr>\n",
       "      <th>2</th>\n",
       "      <td>2</td>\n",
       "      <td>treatment</td>\n",
       "      <td>-16.693093</td>\n",
       "      <td>1.844558</td>\n",
       "      <td>-8.615192</td>\n",
       "      <td>-18.818740</td>\n",
       "      <td>-22.271188</td>\n",
       "      <td>-116.290369</td>\n",
       "      <td>-63.816746</td>\n",
       "      <td>-38.340763</td>\n",
       "      <td>...</td>\n",
       "      <td>2.480242</td>\n",
       "      <td>96.998504</td>\n",
       "      <td>1.100962</td>\n",
       "      <td>-33.275159</td>\n",
       "      <td>0.920926</td>\n",
       "      <td>-679.492242</td>\n",
       "      <td>-91.009397</td>\n",
       "      <td>-18.173358</td>\n",
       "      <td>14.367636</td>\n",
       "      <td>0</td>\n",
       "    </tr>\n",
       "    <tr>\n",
       "      <th>3</th>\n",
       "      <td>3</td>\n",
       "      <td>treatment</td>\n",
       "      <td>-72.040154</td>\n",
       "      <td>-0.226921</td>\n",
       "      <td>39.802607</td>\n",
       "      <td>16.441262</td>\n",
       "      <td>-1.112509</td>\n",
       "      <td>68.128008</td>\n",
       "      <td>23.073147</td>\n",
       "      <td>4.688858</td>\n",
       "      <td>...</td>\n",
       "      <td>83.951551</td>\n",
       "      <td>-323.642557</td>\n",
       "      <td>-0.369182</td>\n",
       "      <td>93.221948</td>\n",
       "      <td>-1.962380</td>\n",
       "      <td>-442.466684</td>\n",
       "      <td>-22.298302</td>\n",
       "      <td>-75.916603</td>\n",
       "      <td>11.634299</td>\n",
       "      <td>0</td>\n",
       "    </tr>\n",
       "    <tr>\n",
       "      <th>4</th>\n",
       "      <td>4</td>\n",
       "      <td>treatment</td>\n",
       "      <td>18.296973</td>\n",
       "      <td>0.996437</td>\n",
       "      <td>24.465307</td>\n",
       "      <td>-34.151971</td>\n",
       "      <td>24.623458</td>\n",
       "      <td>-155.455558</td>\n",
       "      <td>-12.159787</td>\n",
       "      <td>26.705778</td>\n",
       "      <td>...</td>\n",
       "      <td>-208.531112</td>\n",
       "      <td>118.902324</td>\n",
       "      <td>-0.808578</td>\n",
       "      <td>-117.497906</td>\n",
       "      <td>1.770635</td>\n",
       "      <td>627.395611</td>\n",
       "      <td>122.019189</td>\n",
       "      <td>194.091195</td>\n",
       "      <td>-11.883858</td>\n",
       "      <td>0</td>\n",
       "    </tr>\n",
       "  </tbody>\n",
       "</table>\n",
       "<p>5 rows × 53 columns</p>\n",
       "</div>"
      ],
      "text/plain": [
       "   id treatment_group        X_1       X_2        X_3        X_4        X_5  \\\n",
       "0   0         control  39.396577 -0.186548  19.524505  21.250208  55.291264   \n",
       "1   1         control  38.987694  0.819522 -42.064512 -48.270949 -33.171257   \n",
       "2   2       treatment -16.693093  1.844558  -8.615192 -18.818740 -22.271188   \n",
       "3   3       treatment -72.040154 -0.226921  39.802607  16.441262  -1.112509   \n",
       "4   4       treatment  18.296973  0.996437  24.465307 -34.151971  24.623458   \n",
       "\n",
       "          X_6        X_7         X_8  ...        X_42        X_43      X_44  \\\n",
       "0  182.966712  -5.385606  144.573379  ...  134.363458 -213.584582 -2.092461   \n",
       "1  179.459341 -87.151810 -162.693257  ...   72.864779  559.783584  1.142391   \n",
       "2 -116.290369 -63.816746  -38.340763  ...    2.480242   96.998504  1.100962   \n",
       "3   68.128008  23.073147    4.688858  ...   83.951551 -323.642557 -0.369182   \n",
       "4 -155.455558 -12.159787   26.705778  ... -208.531112  118.902324 -0.808578   \n",
       "\n",
       "         X_45      X_46        X_47        X_48        X_49       X_50  \\\n",
       "0  -93.973258 -0.155597 -312.130733   44.798182 -125.682413  16.231365   \n",
       "1   80.037124 -1.216185 -111.473936 -127.737977 -117.501171  10.732234   \n",
       "2  -33.275159  0.920926 -679.492242  -91.009397  -18.173358  14.367636   \n",
       "3   93.221948 -1.962380 -442.466684  -22.298302  -75.916603  11.634299   \n",
       "4 -117.497906  1.770635  627.395611  122.019189  194.091195 -11.883858   \n",
       "\n",
       "   conversion  \n",
       "0           0  \n",
       "1           0  \n",
       "2           0  \n",
       "3           0  \n",
       "4           0  \n",
       "\n",
       "[5 rows x 53 columns]"
      ]
     },
     "execution_count": 2,
     "metadata": {},
     "output_type": "execute_result"
    }
   ],
   "source": [
    "train = pd.read_csv('train.csv')\n",
    "train.head()"
   ]
  },
  {
   "cell_type": "code",
   "execution_count": 3,
   "metadata": {},
   "outputs": [
    {
     "data": {
      "text/html": [
       "<div>\n",
       "<style scoped>\n",
       "    .dataframe tbody tr th:only-of-type {\n",
       "        vertical-align: middle;\n",
       "    }\n",
       "\n",
       "    .dataframe tbody tr th {\n",
       "        vertical-align: top;\n",
       "    }\n",
       "\n",
       "    .dataframe thead th {\n",
       "        text-align: right;\n",
       "    }\n",
       "</style>\n",
       "<table border=\"1\" class=\"dataframe\">\n",
       "  <thead>\n",
       "    <tr style=\"text-align: right;\">\n",
       "      <th></th>\n",
       "      <th>id</th>\n",
       "      <th>treatment_group</th>\n",
       "      <th>X_1</th>\n",
       "      <th>X_2</th>\n",
       "      <th>X_3</th>\n",
       "      <th>X_4</th>\n",
       "      <th>X_5</th>\n",
       "      <th>X_6</th>\n",
       "      <th>X_7</th>\n",
       "      <th>X_8</th>\n",
       "      <th>...</th>\n",
       "      <th>X_41</th>\n",
       "      <th>X_42</th>\n",
       "      <th>X_43</th>\n",
       "      <th>X_44</th>\n",
       "      <th>X_45</th>\n",
       "      <th>X_46</th>\n",
       "      <th>X_47</th>\n",
       "      <th>X_48</th>\n",
       "      <th>X_49</th>\n",
       "      <th>X_50</th>\n",
       "    </tr>\n",
       "  </thead>\n",
       "  <tbody>\n",
       "    <tr>\n",
       "      <th>0</th>\n",
       "      <td>0</td>\n",
       "      <td>control</td>\n",
       "      <td>-21.671252</td>\n",
       "      <td>-0.621024</td>\n",
       "      <td>-2.842075</td>\n",
       "      <td>-51.831110</td>\n",
       "      <td>129.636266</td>\n",
       "      <td>-285.756326</td>\n",
       "      <td>-61.093746</td>\n",
       "      <td>138.041078</td>\n",
       "      <td>...</td>\n",
       "      <td>-38.413356</td>\n",
       "      <td>-24.451165</td>\n",
       "      <td>56.504067</td>\n",
       "      <td>-0.189278</td>\n",
       "      <td>10.272049</td>\n",
       "      <td>0.212921</td>\n",
       "      <td>75.886788</td>\n",
       "      <td>-110.414462</td>\n",
       "      <td>-16.709625</td>\n",
       "      <td>-0.703765</td>\n",
       "    </tr>\n",
       "    <tr>\n",
       "      <th>1</th>\n",
       "      <td>1</td>\n",
       "      <td>control</td>\n",
       "      <td>-34.686034</td>\n",
       "      <td>-1.151992</td>\n",
       "      <td>-22.665072</td>\n",
       "      <td>34.246181</td>\n",
       "      <td>-30.734256</td>\n",
       "      <td>-99.584956</td>\n",
       "      <td>-26.799190</td>\n",
       "      <td>-27.334872</td>\n",
       "      <td>...</td>\n",
       "      <td>-177.776349</td>\n",
       "      <td>8.018468</td>\n",
       "      <td>81.213517</td>\n",
       "      <td>-1.175417</td>\n",
       "      <td>15.345314</td>\n",
       "      <td>0.036785</td>\n",
       "      <td>205.736199</td>\n",
       "      <td>-54.989791</td>\n",
       "      <td>19.713818</td>\n",
       "      <td>-17.718764</td>\n",
       "    </tr>\n",
       "    <tr>\n",
       "      <th>2</th>\n",
       "      <td>2</td>\n",
       "      <td>treatment</td>\n",
       "      <td>69.048662</td>\n",
       "      <td>0.474066</td>\n",
       "      <td>9.736740</td>\n",
       "      <td>-25.494699</td>\n",
       "      <td>-9.600274</td>\n",
       "      <td>7.376884</td>\n",
       "      <td>-106.200077</td>\n",
       "      <td>39.657037</td>\n",
       "      <td>...</td>\n",
       "      <td>182.090805</td>\n",
       "      <td>-118.837053</td>\n",
       "      <td>-12.809603</td>\n",
       "      <td>0.398911</td>\n",
       "      <td>-53.774243</td>\n",
       "      <td>-0.586393</td>\n",
       "      <td>921.576204</td>\n",
       "      <td>311.032798</td>\n",
       "      <td>105.630100</td>\n",
       "      <td>0.919092</td>\n",
       "    </tr>\n",
       "    <tr>\n",
       "      <th>3</th>\n",
       "      <td>3</td>\n",
       "      <td>control</td>\n",
       "      <td>61.317519</td>\n",
       "      <td>1.296703</td>\n",
       "      <td>-34.345992</td>\n",
       "      <td>-17.611217</td>\n",
       "      <td>-38.021001</td>\n",
       "      <td>41.883604</td>\n",
       "      <td>-1.415220</td>\n",
       "      <td>-39.302033</td>\n",
       "      <td>...</td>\n",
       "      <td>3.848069</td>\n",
       "      <td>258.005558</td>\n",
       "      <td>-362.822718</td>\n",
       "      <td>0.660958</td>\n",
       "      <td>-138.455604</td>\n",
       "      <td>-0.904081</td>\n",
       "      <td>76.344359</td>\n",
       "      <td>57.461948</td>\n",
       "      <td>-289.542387</td>\n",
       "      <td>-37.721344</td>\n",
       "    </tr>\n",
       "    <tr>\n",
       "      <th>4</th>\n",
       "      <td>4</td>\n",
       "      <td>control</td>\n",
       "      <td>-76.204820</td>\n",
       "      <td>0.438070</td>\n",
       "      <td>-15.165489</td>\n",
       "      <td>-10.042479</td>\n",
       "      <td>22.548630</td>\n",
       "      <td>129.314238</td>\n",
       "      <td>71.800088</td>\n",
       "      <td>-125.207403</td>\n",
       "      <td>...</td>\n",
       "      <td>-207.931337</td>\n",
       "      <td>42.154019</td>\n",
       "      <td>-292.070142</td>\n",
       "      <td>-0.098644</td>\n",
       "      <td>66.842454</td>\n",
       "      <td>-1.072092</td>\n",
       "      <td>-1066.343927</td>\n",
       "      <td>-50.823453</td>\n",
       "      <td>-53.219431</td>\n",
       "      <td>-25.482573</td>\n",
       "    </tr>\n",
       "  </tbody>\n",
       "</table>\n",
       "<p>5 rows × 52 columns</p>\n",
       "</div>"
      ],
      "text/plain": [
       "   id treatment_group        X_1       X_2        X_3        X_4         X_5  \\\n",
       "0   0         control -21.671252 -0.621024  -2.842075 -51.831110  129.636266   \n",
       "1   1         control -34.686034 -1.151992 -22.665072  34.246181  -30.734256   \n",
       "2   2       treatment  69.048662  0.474066   9.736740 -25.494699   -9.600274   \n",
       "3   3         control  61.317519  1.296703 -34.345992 -17.611217  -38.021001   \n",
       "4   4         control -76.204820  0.438070 -15.165489 -10.042479   22.548630   \n",
       "\n",
       "          X_6         X_7         X_8  ...        X_41        X_42  \\\n",
       "0 -285.756326  -61.093746  138.041078  ...  -38.413356  -24.451165   \n",
       "1  -99.584956  -26.799190  -27.334872  ... -177.776349    8.018468   \n",
       "2    7.376884 -106.200077   39.657037  ...  182.090805 -118.837053   \n",
       "3   41.883604   -1.415220  -39.302033  ...    3.848069  258.005558   \n",
       "4  129.314238   71.800088 -125.207403  ... -207.931337   42.154019   \n",
       "\n",
       "         X_43      X_44        X_45      X_46         X_47        X_48  \\\n",
       "0   56.504067 -0.189278   10.272049  0.212921    75.886788 -110.414462   \n",
       "1   81.213517 -1.175417   15.345314  0.036785   205.736199  -54.989791   \n",
       "2  -12.809603  0.398911  -53.774243 -0.586393   921.576204  311.032798   \n",
       "3 -362.822718  0.660958 -138.455604 -0.904081    76.344359   57.461948   \n",
       "4 -292.070142 -0.098644   66.842454 -1.072092 -1066.343927  -50.823453   \n",
       "\n",
       "         X_49       X_50  \n",
       "0  -16.709625  -0.703765  \n",
       "1   19.713818 -17.718764  \n",
       "2  105.630100   0.919092  \n",
       "3 -289.542387 -37.721344  \n",
       "4  -53.219431 -25.482573  \n",
       "\n",
       "[5 rows x 52 columns]"
      ]
     },
     "execution_count": 3,
     "metadata": {},
     "output_type": "execute_result"
    }
   ],
   "source": [
    "test = pd.read_csv('test.csv')\n",
    "test.head()"
   ]
  },
  {
   "cell_type": "markdown",
   "metadata": {},
   "source": [
    "### we can see that we have redundant information in the test - the fact of communication with the user. This information can't help us solve the problem of predicting the uplift, but it will help to maximize the Qini score by which the solution is estimated in this contest. Therefore:"
   ]
  },
  {
   "cell_type": "markdown",
   "metadata": {},
   "source": [
    "## problem №2: use information about communication to boost Qini score (not covered in this notebook)"
   ]
  },
  {
   "cell_type": "markdown",
   "metadata": {},
   "source": [
    "---"
   ]
  },
  {
   "cell_type": "markdown",
   "metadata": {},
   "source": [
    "# 📝Solution to problem №1"
   ]
  },
  {
   "cell_type": "markdown",
   "metadata": {},
   "source": [
    "### 1) Conditional Independence Assumption:"
   ]
  },
  {
   "cell_type": "markdown",
   "metadata": {},
   "source": [
    "intuition: check if treatment was random"
   ]
  },
  {
   "cell_type": "code",
   "execution_count": 4,
   "metadata": {},
   "outputs": [
    {
     "data": {
      "text/plain": [
       "0.49986500000000006"
      ]
     },
     "execution_count": 4,
     "metadata": {},
     "output_type": "execute_result"
    }
   ],
   "source": [
    "grid_search = GridSearchCV(estimator= CatBoostClassifier(random_state=42, thread_count=-1, verbose=0),\n",
    "                             param_grid= {},\n",
    "                             scoring= 'f1_micro', \n",
    "                             cv=3)\n",
    "\n",
    "grid_search.fit(train.loc[:, ~train.columns.isin(['treatment_group','conversion'])], train['treatment_group'])\n",
    "grid_search.best_score_"
   ]
  },
  {
   "cell_type": "markdown",
   "metadata": {},
   "source": [
    "Based on the user's features, the classifier makes type I and type II errors as often (50%) as it guesses the correct answer. This means that communication was carried out by random."
   ]
  },
  {
   "cell_type": "markdown",
   "metadata": {},
   "source": [
    "### 2) Fit single model with treatment feature (S-Learner approach) ([link to tutorial](https://habr.com/ru/company/ru_mts/blog/485980/))"
   ]
  },
  {
   "cell_type": "markdown",
   "metadata": {},
   "source": [
    "intuition: the model fits simultaneously on two groups with binary treatment flag as an additional user's feature. We score each object from the test sample twice: with the treatment flag equal to 1 and equal to 0. Subtracting the probabilities for each observation, we obtain an estimated uplift."
   ]
  },
  {
   "cell_type": "code",
   "execution_count": 5,
   "metadata": {},
   "outputs": [],
   "source": [
    "from sklift.metrics import get_scorer"
   ]
  },
  {
   "cell_type": "code",
   "execution_count": 6,
   "metadata": {},
   "outputs": [],
   "source": [
    "# setting up data (use test set for model evaluation after grid-search-cross-validation-tuning). Use cv set for GridSearchCV\n",
    "train.treatment_group = train.treatment_group.map(lambda x: 0 if x == 'control' else (1 if x == 'treatment' else x))\n",
    "\n",
    "stratify_cols = pd.concat([train.treatment_group, train.conversion], axis=1)\n",
    "\n",
    "X_cv, X_test, trmnt_cv, trmnt_test, y_cv, y_test = train_test_split(\n",
    "    train.drop(['treatment_group', 'conversion'],axis=1),\n",
    "    train.treatment_group,\n",
    "    train.conversion,\n",
    "    stratify=stratify_cols,\n",
    "    test_size=0.2,\n",
    "    random_state=42\n",
    ")"
   ]
  },
  {
   "cell_type": "code",
   "execution_count": 7,
   "metadata": {},
   "outputs": [],
   "source": [
    "# setting up model ...\n",
    "estimator = CatBoostClassifier(\n",
    "                                random_state=42,\n",
    "                                thread_count=-1,\n",
    "                                verbose=False\n",
    "                            )\n",
    "# ... metamodel ...\n",
    "slearner = SoloModel(estimator=estimator)\n",
    "\n",
    "# ... and uplift metric scorer to pass to cross validation\n",
    "uplift_scorer = get_scorer(\"qini_auc_score\", trmnt_cv)"
   ]
  },
  {
   "cell_type": "code",
   "execution_count": 8,
   "metadata": {},
   "outputs": [
    {
     "data": {
      "text/plain": [
       "{'fit_time': array([133.37991595, 133.42379808, 133.0478034 ]),\n",
       " 'score_time': array([0.10970783, 0.09973359, 0.1236701 ]),\n",
       " 'estimator': [SoloModel(estimator=<catboost.core.CatBoostClassifier object at 0x000001E2CC25E880>),\n",
       "  SoloModel(estimator=<catboost.core.CatBoostClassifier object at 0x000001E2CC25E130>),\n",
       "  SoloModel(estimator=<catboost.core.CatBoostClassifier object at 0x000001E2804CEA60>)],\n",
       " 'test_score': array([0.24533078, 0.23846022, 0.24624434])}"
      ]
     },
     "execution_count": 8,
     "metadata": {},
     "output_type": "execute_result"
    }
   ],
   "source": [
    "cv_gen = StratifiedShuffleSplit(\n",
    "    n_splits=3,\n",
    "    random_state=42\n",
    ")\n",
    "\n",
    "cross_validate(slearner,    \n",
    "               X=X_cv,\n",
    "               y=y_cv,\n",
    "               scoring=uplift_scorer,\n",
    "               return_estimator=True,\n",
    "               cv=cv_gen,\n",
    "               n_jobs=-1,\n",
    "               fit_params={'treatment': trmnt_cv}\n",
    ")"
   ]
  },
  {
   "cell_type": "code",
   "execution_count": 9,
   "metadata": {},
   "outputs": [
    {
     "data": {
      "text/plain": [
       "GridSearchCV(cv=StratifiedShuffleSplit(n_splits=3, random_state=42, test_size=None,\n",
       "            train_size=None),\n",
       "             estimator=SoloModel(estimator=<catboost.core.CatBoostClassifier object at 0x000001E2CC286D30>),\n",
       "             n_jobs=-1,\n",
       "             param_grid={'estimator__learning_rate': [0.01, 0.03],\n",
       "                         'estimator__max_depth': [4, 5, 6]},\n",
       "             scoring=make_scorer(scorer, treatment_value=96674     1\n",
       "351735    1\n",
       "173777    1\n",
       "405347    1\n",
       "109274    0\n",
       "         ..\n",
       "577272    1\n",
       "438763    1\n",
       "157515    1\n",
       "560880    1\n",
       "588999    0\n",
       "Name: treatment_group, Length: 480000, dtype: int64))"
      ]
     },
     "execution_count": 9,
     "metadata": {},
     "output_type": "execute_result"
    }
   ],
   "source": [
    "grid_search = GridSearchCV(slearner,\n",
    "                           param_grid= {'estimator__learning_rate': [0.01, 0.03],\n",
    "                                        'estimator__max_depth':[4,5,6]\n",
    "                                        },\n",
    "                           scoring= uplift_scorer,\n",
    "                           n_jobs=-1,\n",
    "                           cv=cv_gen)\n",
    "\n",
    "grid_search.fit(\n",
    "    X=X_cv,\n",
    "    y=y_cv,\n",
    "    treatment=trmnt_cv\n",
    ")"
   ]
  },
  {
   "cell_type": "code",
   "execution_count": 10,
   "metadata": {},
   "outputs": [
    {
     "data": {
      "text/plain": [
       "{'estimator__learning_rate': 0.03, 'estimator__max_depth': 6}"
      ]
     },
     "execution_count": 10,
     "metadata": {},
     "output_type": "execute_result"
    }
   ],
   "source": [
    "grid_search.best_params_"
   ]
  },
  {
   "cell_type": "code",
   "execution_count": 11,
   "metadata": {},
   "outputs": [
    {
     "name": "stdout",
     "output_type": "stream",
     "text": [
      "best qini score on grid search:  0.23615346047086438\n"
     ]
    }
   ],
   "source": [
    "print(\"best qini score on grid search: \", grid_search.best_score_)"
   ]
  },
  {
   "cell_type": "code",
   "execution_count": 12,
   "metadata": {},
   "outputs": [],
   "source": [
    "slearner.set_params(**grid_search.best_params_)\n",
    "\n",
    "slearner.fit(\n",
    "    X=X_cv, \n",
    "    y=y_cv, \n",
    "    treatment=trmnt_cv,\n",
    ")\n",
    "\n",
    "uplift_from_slearner = slearner.predict(X_test)"
   ]
  },
  {
   "cell_type": "code",
   "execution_count": 13,
   "metadata": {},
   "outputs": [
    {
     "data": {
      "text/plain": [
       "<AxesSubplot:title={'center':'Qini curve\\nqini_auc_score=0.2391'}, xlabel='Number targeted', ylabel='Number of incremental outcome'>"
      ]
     },
     "execution_count": 13,
     "metadata": {},
     "output_type": "execute_result"
    },
    {
     "data": {
      "image/png": "[encoded data removed]",
      "text/plain": [
       "<Figure size 576x432 with 1 Axes>"
      ]
     },
     "metadata": {
      "needs_background": "light"
     },
     "output_type": "display_data"
    }
   ],
   "source": [
    "plot_qini_curve(y_test, uplift_from_slearner, trmnt_test, perfect=True)"
   ]
  }
 ],
 "metadata": {
  "kernelspec": {
   "display_name": "Python 3",
   "language": "python",
   "name": "python3"
  },
  "language_info": {
   "codemirror_mode": {
    "name": "ipython",
    "version": 3
   },
   "file_extension": ".py",
   "mimetype": "text/x-python",
   "name": "python",
   "nbconvert_exporter": "python",
   "pygments_lexer": "ipython3",
   "version": "3.8.2"
  }
 },
 "nbformat": 4,
 "nbformat_minor": 4
}
