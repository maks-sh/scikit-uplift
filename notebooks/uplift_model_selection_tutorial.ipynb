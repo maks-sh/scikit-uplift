{
 "cells": [
  {
   "cell_type": "markdown",
   "metadata": {},
   "source": [
    "# 🎯 Uplift model selection"
   ]
  },
  {
   "cell_type": "markdown",
   "metadata": {},
   "source": [
    "#  [MegaFon Uplift Competition](https://ods.ai/competitions/megafon-df21-comp)"
   ]
  },
  {
   "cell_type": "markdown",
   "metadata": {},
   "source": [
    "## problem: predict the uplift by user's feature vector"
   ]
  },
  {
   "cell_type": "code",
   "execution_count": 1,
   "metadata": {
    "ExecuteTime": {
     "end_time": "2021-08-09T22:36:25.634993Z",
     "start_time": "2021-08-09T22:36:25.630910Z"
    }
   },
   "outputs": [],
   "source": [
    "pip install scikit-uplift lightgbm -U"
   ]
  },
  {
   "cell_type": "code",
   "execution_count": 2,
   "metadata": {
    "ExecuteTime": {
     "end_time": "2021-08-09T22:36:28.529257Z",
     "start_time": "2021-08-09T22:36:26.514166Z"
    }
   },
   "outputs": [],
   "source": [
    "import pandas as pd\n",
    "from sklearn.model_selection import (\n",
    "    StratifiedShuffleSplit, GridSearchCV, \n",
    "    train_test_split, cross_validate, cross_val_score\n",
    ")\n",
    "from lightgbm import LGBMClassifier\n",
    "from sklift.models import SoloModel\n",
    "from sklift.viz import plot_qini_curve\n",
    "from sklift.datasets import fetch_megafon\n",
    "from sklift.metrics import make_uplift_scorer"
   ]
  },
  {
   "cell_type": "code",
   "execution_count": 3,
   "metadata": {
    "ExecuteTime": {
     "end_time": "2021-08-09T22:36:37.602085Z",
     "start_time": "2021-08-09T22:36:28.531896Z"
    }
   },
   "outputs": [
    {
     "data": {
      "text/html": [
       "<div>\n",
       "<style scoped>\n",
       "    .dataframe tbody tr th:only-of-type {\n",
       "        vertical-align: middle;\n",
       "    }\n",
       "\n",
       "    .dataframe tbody tr th {\n",
       "        vertical-align: top;\n",
       "    }\n",
       "\n",
       "    .dataframe thead th {\n",
       "        text-align: right;\n",
       "    }\n",
       "</style>\n",
       "<table border=\"1\" class=\"dataframe\">\n",
       "  <thead>\n",
       "    <tr style=\"text-align: right;\">\n",
       "      <th></th>\n",
       "      <th>X_1</th>\n",
       "      <th>X_2</th>\n",
       "      <th>X_3</th>\n",
       "      <th>X_4</th>\n",
       "      <th>X_5</th>\n",
       "      <th>X_6</th>\n",
       "      <th>X_7</th>\n",
       "      <th>X_8</th>\n",
       "      <th>X_9</th>\n",
       "      <th>X_10</th>\n",
       "      <th>...</th>\n",
       "      <th>X_41</th>\n",
       "      <th>X_42</th>\n",
       "      <th>X_43</th>\n",
       "      <th>X_44</th>\n",
       "      <th>X_45</th>\n",
       "      <th>X_46</th>\n",
       "      <th>X_47</th>\n",
       "      <th>X_48</th>\n",
       "      <th>X_49</th>\n",
       "      <th>X_50</th>\n",
       "    </tr>\n",
       "    <tr>\n",
       "      <th>id</th>\n",
       "      <th></th>\n",
       "      <th></th>\n",
       "      <th></th>\n",
       "      <th></th>\n",
       "      <th></th>\n",
       "      <th></th>\n",
       "      <th></th>\n",
       "      <th></th>\n",
       "      <th></th>\n",
       "      <th></th>\n",
       "      <th></th>\n",
       "      <th></th>\n",
       "      <th></th>\n",
       "      <th></th>\n",
       "      <th></th>\n",
       "      <th></th>\n",
       "      <th></th>\n",
       "      <th></th>\n",
       "      <th></th>\n",
       "      <th></th>\n",
       "      <th></th>\n",
       "    </tr>\n",
       "  </thead>\n",
       "  <tbody>\n",
       "    <tr>\n",
       "      <th>0</th>\n",
       "      <td>39.396577</td>\n",
       "      <td>-0.186548</td>\n",
       "      <td>19.524505</td>\n",
       "      <td>21.250208</td>\n",
       "      <td>55.291264</td>\n",
       "      <td>182.966712</td>\n",
       "      <td>-5.385606</td>\n",
       "      <td>144.573379</td>\n",
       "      <td>-12.534344</td>\n",
       "      <td>-58.279429</td>\n",
       "      <td>...</td>\n",
       "      <td>90.877638</td>\n",
       "      <td>134.363458</td>\n",
       "      <td>-213.584582</td>\n",
       "      <td>-2.092461</td>\n",
       "      <td>-93.973258</td>\n",
       "      <td>-0.155597</td>\n",
       "      <td>-312.130733</td>\n",
       "      <td>44.798182</td>\n",
       "      <td>-125.682413</td>\n",
       "      <td>16.231365</td>\n",
       "    </tr>\n",
       "    <tr>\n",
       "      <th>1</th>\n",
       "      <td>38.987694</td>\n",
       "      <td>0.819522</td>\n",
       "      <td>-42.064512</td>\n",
       "      <td>-48.270949</td>\n",
       "      <td>-33.171257</td>\n",
       "      <td>179.459341</td>\n",
       "      <td>-87.151810</td>\n",
       "      <td>-162.693257</td>\n",
       "      <td>20.651652</td>\n",
       "      <td>181.635081</td>\n",
       "      <td>...</td>\n",
       "      <td>-183.840746</td>\n",
       "      <td>72.864779</td>\n",
       "      <td>559.783584</td>\n",
       "      <td>1.142391</td>\n",
       "      <td>80.037124</td>\n",
       "      <td>-1.216185</td>\n",
       "      <td>-111.473936</td>\n",
       "      <td>-127.737977</td>\n",
       "      <td>-117.501171</td>\n",
       "      <td>10.732234</td>\n",
       "    </tr>\n",
       "    <tr>\n",
       "      <th>2</th>\n",
       "      <td>-16.693093</td>\n",
       "      <td>1.844558</td>\n",
       "      <td>-8.615192</td>\n",
       "      <td>-18.818740</td>\n",
       "      <td>-22.271188</td>\n",
       "      <td>-116.290369</td>\n",
       "      <td>-63.816746</td>\n",
       "      <td>-38.340763</td>\n",
       "      <td>24.968496</td>\n",
       "      <td>-136.340629</td>\n",
       "      <td>...</td>\n",
       "      <td>-203.637766</td>\n",
       "      <td>2.480242</td>\n",
       "      <td>96.998504</td>\n",
       "      <td>1.100962</td>\n",
       "      <td>-33.275159</td>\n",
       "      <td>0.920926</td>\n",
       "      <td>-679.492242</td>\n",
       "      <td>-91.009397</td>\n",
       "      <td>-18.173358</td>\n",
       "      <td>14.367636</td>\n",
       "    </tr>\n",
       "    <tr>\n",
       "      <th>3</th>\n",
       "      <td>-72.040154</td>\n",
       "      <td>-0.226921</td>\n",
       "      <td>39.802607</td>\n",
       "      <td>16.441262</td>\n",
       "      <td>-1.112509</td>\n",
       "      <td>68.128008</td>\n",
       "      <td>23.073147</td>\n",
       "      <td>4.688858</td>\n",
       "      <td>-49.383641</td>\n",
       "      <td>-91.866107</td>\n",
       "      <td>...</td>\n",
       "      <td>172.906875</td>\n",
       "      <td>83.951551</td>\n",
       "      <td>-323.642557</td>\n",
       "      <td>-0.369182</td>\n",
       "      <td>93.221948</td>\n",
       "      <td>-1.962380</td>\n",
       "      <td>-442.466684</td>\n",
       "      <td>-22.298302</td>\n",
       "      <td>-75.916603</td>\n",
       "      <td>11.634299</td>\n",
       "    </tr>\n",
       "    <tr>\n",
       "      <th>4</th>\n",
       "      <td>18.296973</td>\n",
       "      <td>0.996437</td>\n",
       "      <td>24.465307</td>\n",
       "      <td>-34.151971</td>\n",
       "      <td>24.623458</td>\n",
       "      <td>-155.455558</td>\n",
       "      <td>-12.159787</td>\n",
       "      <td>26.705778</td>\n",
       "      <td>105.864805</td>\n",
       "      <td>258.607252</td>\n",
       "      <td>...</td>\n",
       "      <td>125.577535</td>\n",
       "      <td>-208.531112</td>\n",
       "      <td>118.902324</td>\n",
       "      <td>-0.808578</td>\n",
       "      <td>-117.497906</td>\n",
       "      <td>1.770635</td>\n",
       "      <td>627.395611</td>\n",
       "      <td>122.019189</td>\n",
       "      <td>194.091195</td>\n",
       "      <td>-11.883858</td>\n",
       "    </tr>\n",
       "  </tbody>\n",
       "</table>\n",
       "<p>5 rows × 50 columns</p>\n",
       "</div>"
      ],
      "text/plain": [
       "          X_1       X_2        X_3        X_4        X_5         X_6  \\\n",
       "id                                                                     \n",
       "0   39.396577 -0.186548  19.524505  21.250208  55.291264  182.966712   \n",
       "1   38.987694  0.819522 -42.064512 -48.270949 -33.171257  179.459341   \n",
       "2  -16.693093  1.844558  -8.615192 -18.818740 -22.271188 -116.290369   \n",
       "3  -72.040154 -0.226921  39.802607  16.441262  -1.112509   68.128008   \n",
       "4   18.296973  0.996437  24.465307 -34.151971  24.623458 -155.455558   \n",
       "\n",
       "          X_7         X_8         X_9        X_10  ...        X_41  \\\n",
       "id                                                 ...               \n",
       "0   -5.385606  144.573379  -12.534344  -58.279429  ...   90.877638   \n",
       "1  -87.151810 -162.693257   20.651652  181.635081  ... -183.840746   \n",
       "2  -63.816746  -38.340763   24.968496 -136.340629  ... -203.637766   \n",
       "3   23.073147    4.688858  -49.383641  -91.866107  ...  172.906875   \n",
       "4  -12.159787   26.705778  105.864805  258.607252  ...  125.577535   \n",
       "\n",
       "          X_42        X_43      X_44        X_45      X_46        X_47  \\\n",
       "id                                                                       \n",
       "0   134.363458 -213.584582 -2.092461  -93.973258 -0.155597 -312.130733   \n",
       "1    72.864779  559.783584  1.142391   80.037124 -1.216185 -111.473936   \n",
       "2     2.480242   96.998504  1.100962  -33.275159  0.920926 -679.492242   \n",
       "3    83.951551 -323.642557 -0.369182   93.221948 -1.962380 -442.466684   \n",
       "4  -208.531112  118.902324 -0.808578 -117.497906  1.770635  627.395611   \n",
       "\n",
       "          X_48        X_49       X_50  \n",
       "id                                     \n",
       "0    44.798182 -125.682413  16.231365  \n",
       "1  -127.737977 -117.501171  10.732234  \n",
       "2   -91.009397  -18.173358  14.367636  \n",
       "3   -22.298302  -75.916603  11.634299  \n",
       "4   122.019189  194.091195 -11.883858  \n",
       "\n",
       "[5 rows x 50 columns]"
      ]
     },
     "execution_count": 3,
     "metadata": {},
     "output_type": "execute_result"
    }
   ],
   "source": [
    "dataset = fetch_megafon()\n",
    "data, treatment, target = dataset.data, dataset.treatment, dataset.target\n",
    "data = data.set_index('id')\n",
    "\n",
    "data.head()"
   ]
  },
  {
   "cell_type": "code",
   "execution_count": 4,
   "metadata": {
    "ExecuteTime": {
     "end_time": "2021-08-09T22:36:37.612740Z",
     "start_time": "2021-08-09T22:36:37.605841Z"
    }
   },
   "outputs": [
    {
     "data": {
      "text/plain": [
       "0      control\n",
       "1      control\n",
       "2    treatment\n",
       "3    treatment\n",
       "4    treatment\n",
       "Name: treatment_group, dtype: object"
      ]
     },
     "execution_count": 4,
     "metadata": {},
     "output_type": "execute_result"
    }
   ],
   "source": [
    "treatment.head()"
   ]
  },
  {
   "cell_type": "code",
   "execution_count": 5,
   "metadata": {
    "ExecuteTime": {
     "end_time": "2021-08-09T22:36:37.625552Z",
     "start_time": "2021-08-09T22:36:37.616897Z"
    }
   },
   "outputs": [
    {
     "data": {
      "text/plain": [
       "0    0\n",
       "1    0\n",
       "2    0\n",
       "3    0\n",
       "4    0\n",
       "Name: conversion, dtype: int64"
      ]
     },
     "execution_count": 5,
     "metadata": {},
     "output_type": "execute_result"
    }
   ],
   "source": [
    "target.head()"
   ]
  },
  {
   "cell_type": "markdown",
   "metadata": {},
   "source": [
    "---"
   ]
  },
  {
   "cell_type": "markdown",
   "metadata": {},
   "source": [
    "# 📝Solution of problem"
   ]
  },
  {
   "cell_type": "code",
   "execution_count": 6,
   "metadata": {
    "ExecuteTime": {
     "end_time": "2021-08-09T22:36:37.707170Z",
     "start_time": "2021-08-09T22:36:37.628978Z"
    }
   },
   "outputs": [],
   "source": [
    "# make treatment binary\n",
    "treatment = treatment.map({'control': 0, 'treatment': 1})"
   ]
  },
  {
   "cell_type": "markdown",
   "metadata": {},
   "source": [
    "### 1) Conditional Independence Assumption:"
   ]
  },
  {
   "cell_type": "markdown",
   "metadata": {},
   "source": [
    "intuition: check if treatment was random"
   ]
  },
  {
   "cell_type": "code",
   "execution_count": 7,
   "metadata": {
    "ExecuteTime": {
     "end_time": "2021-08-09T22:37:01.986874Z",
     "start_time": "2021-08-09T22:36:37.711818Z"
    }
   },
   "outputs": [
    {
     "name": "stdout",
     "output_type": "stream",
     "text": [
      "F1 micro 0.50\n"
     ]
    }
   ],
   "source": [
    "f1_micro = cross_val_score(\n",
    "    X=data,\n",
    "    y=treatment,\n",
    "    estimator= LGBMClassifier(random_state=42, n_jobs=-1),\n",
    "    scoring='f1_micro', \n",
    "    cv=3)\n",
    "\n",
    "print(f'F1 micro {f1_micro.mean():.2f}')"
   ]
  },
  {
   "cell_type": "markdown",
   "metadata": {},
   "source": [
    "Based on the user's features, the classifier makes type I and type II errors as often (50%) as it guesses the correct answer. This means that communication was carried out by random."
   ]
  },
  {
   "cell_type": "markdown",
   "metadata": {},
   "source": [
    "### 2) Fit single model with treatment feature (S-Learner approach) ([link to tutorial](https://habr.com/ru/company/ru_mts/blog/485980/))"
   ]
  },
  {
   "cell_type": "markdown",
   "metadata": {},
   "source": [
    "intuition: the model fits simultaneously on two groups with binary treatment flag as an additional user's feature. We score each object from the test sample twice: with the treatment flag equal to 1 and equal to 0. Subtracting the probabilities for each observation, we obtain an estimated uplift."
   ]
  },
  {
   "cell_type": "code",
   "execution_count": 8,
   "metadata": {
    "ExecuteTime": {
     "end_time": "2021-08-09T22:37:06.722450Z",
     "start_time": "2021-08-09T22:37:01.995217Z"
    }
   },
   "outputs": [],
   "source": [
    "# setting up data\n",
    "# use test set for model evaluation after grid-search-cross-validation-tuning \n",
    "# use cv set for GridSearchCV\n",
    "\n",
    "stratify_cols = pd.concat([treatment, target], axis=1)\n",
    "\n",
    "X_cv, X_test, y_cv, y_test, trmnt_cv, trmnt_test = train_test_split(\n",
    "    data,\n",
    "    target,\n",
    "    treatment,\n",
    "    stratify=stratify_cols,\n",
    "    test_size=0.2,\n",
    "    random_state=42\n",
    ")"
   ]
  },
  {
   "cell_type": "code",
   "execution_count": 9,
   "metadata": {
    "ExecuteTime": {
     "end_time": "2021-08-09T22:37:06.732922Z",
     "start_time": "2021-08-09T22:37:06.726210Z"
    }
   },
   "outputs": [],
   "source": [
    "# setting up model ...\n",
    "estimator = LGBMClassifier(\n",
    "    random_state=42,\n",
    "    n_jobs=-1,\n",
    ")\n",
    "\n",
    "# ... metamodel ...\n",
    "slearner = SoloModel(estimator=estimator)\n",
    "\n",
    "# ... and uplift metric scorer to pass to cross validation\n",
    "uplift_scorer = make_uplift_scorer(\"qini_auc_score\", trmnt_cv)"
   ]
  },
  {
   "cell_type": "code",
   "execution_count": 10,
   "metadata": {
    "ExecuteTime": {
     "end_time": "2021-08-09T22:37:45.899995Z",
     "start_time": "2021-08-09T22:37:06.737907Z"
    }
   },
   "outputs": [
    {
     "data": {
      "text/plain": [
       "{'fit_time': array([33.87235594, 33.96732211, 33.46848416]),\n",
       " 'score_time': array([1.76540208, 1.70858002, 1.79931688]),\n",
       " 'estimator': [SoloModel(estimator=LGBMClassifier(random_state=42)),\n",
       "  SoloModel(estimator=LGBMClassifier(random_state=42)),\n",
       "  SoloModel(estimator=LGBMClassifier(random_state=42))],\n",
       " 'test_score': array([0.22895519, 0.22294613, 0.22625875])}"
      ]
     },
     "execution_count": 10,
     "metadata": {},
     "output_type": "execute_result"
    }
   ],
   "source": [
    "cv_gen = StratifiedShuffleSplit(\n",
    "    n_splits=3,\n",
    "    random_state=42\n",
    ")\n",
    "\n",
    "cross_validate(slearner,    \n",
    "               X=X_cv,\n",
    "               y=y_cv,\n",
    "               scoring=uplift_scorer,\n",
    "               return_estimator=True,\n",
    "               cv=cv_gen,\n",
    "               n_jobs=-1,\n",
    "               fit_params={'treatment': trmnt_cv}\n",
    ")"
   ]
  },
  {
   "cell_type": "code",
   "execution_count": 11,
   "metadata": {
    "ExecuteTime": {
     "end_time": "2021-08-09T22:38:44.842022Z",
     "start_time": "2021-08-09T22:37:45.907215Z"
    }
   },
   "outputs": [],
   "source": [
    "grid = {\n",
    "    'estimator__learning_rate': [0.2],\n",
    "    'estimator__max_depth': [6]\n",
    "}\n",
    "\n",
    "grid_search = GridSearchCV(slearner,\n",
    "                           param_grid=grid,\n",
    "                           scoring=uplift_scorer,\n",
    "                           n_jobs=-1,\n",
    "                           cv=cv_gen,\n",
    "                           return_train_score=True\n",
    "                          )\n",
    "\n",
    "grid_search = grid_search.fit(\n",
    "    X=X_cv,\n",
    "    y=y_cv,\n",
    "    treatment=trmnt_cv\n",
    ")"
   ]
  },
  {
   "cell_type": "code",
   "execution_count": 12,
   "metadata": {
    "ExecuteTime": {
     "end_time": "2021-08-09T22:38:44.860816Z",
     "start_time": "2021-08-09T22:38:44.847274Z"
    }
   },
   "outputs": [
    {
     "name": "stdout",
     "output_type": "stream",
     "text": [
      "best qini score on grid search: 0.2269\n",
      "best params: {'estimator__learning_rate': 0.2, 'estimator__max_depth': 6}\n"
     ]
    }
   ],
   "source": [
    "print(f\"best qini score on grid search: {grid_search.best_score_:.4f}\")\n",
    "print(f\"best params: {grid_search.best_params_}\")"
   ]
  },
  {
   "cell_type": "code",
   "execution_count": 13,
   "metadata": {
    "ExecuteTime": {
     "end_time": "2021-08-09T22:38:55.258438Z",
     "start_time": "2021-08-09T22:38:44.865374Z"
    }
   },
   "outputs": [],
   "source": [
    "slearner.set_params(**grid_search.best_params_)\n",
    "\n",
    "slearner.fit(\n",
    "    X=X_cv, \n",
    "    y=y_cv, \n",
    "    treatment=trmnt_cv,\n",
    ")\n",
    "\n",
    "uplift = slearner.predict(X_test)"
   ]
  },
  {
   "cell_type": "code",
   "execution_count": 14,
   "metadata": {
    "ExecuteTime": {
     "end_time": "2021-08-09T22:38:55.910003Z",
     "start_time": "2021-08-09T22:38:55.261034Z"
    }
   },
   "outputs": [
    {
     "data": {
      "image/png": "[encoded data removed]",
      "text/plain": [
       "<Figure size 432x288 with 1 Axes>"
      ]
     },
     "metadata": {
      "needs_background": "light"
     },
     "output_type": "display_data"
    }
   ],
   "source": [
    "bets_disp = plot_qini_curve(y_test, uplift, trmnt_test, perfect=True, name='Best model');\n",
    "bets_disp.figure_.suptitle(\"Qini curve\");"
   ]
  }
 ],
 "metadata": {
  "kernelspec": {
   "display_name": "python 3",
   "language": "python",
   "name": "python3"
  },
  "language_info": {
   "codemirror_mode": {
    "name": "ipython",
    "version": 3
   },
   "file_extension": ".py",
   "mimetype": "text/x-python",
   "name": "python",
   "nbconvert_exporter": "python",
   "pygments_lexer": "ipython3",
   "version": "3.6.1"
  }
 },
 "nbformat": 4,
 "nbformat_minor": 4
}
