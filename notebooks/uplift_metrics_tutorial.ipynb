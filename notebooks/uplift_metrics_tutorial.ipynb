{
 "cells": [
  {
   "cell_type": "markdown",
   "metadata": {},
   "source": [
    "# 🎯 Uplift modeling `metrics`\n",
    "\n",
    "<br>\n",
    "<center>\n",
    "    <a href=\"https://colab.research.google.com/github/maks-sh/scikit-uplift/blob/master/notebooks/uplift_metrics_tutorial.ipynb\">\n",
    "        <img src=\"https://colab.research.google.com/assets/colab-badge.svg\">\n",
    "    </a>\n",
    "    <br>\n",
    "    <b><a href=\"https://github.com/maks-sh/scikit-uplift/\">SCIKIT-UPLIFT REPO</a> | </b>\n",
    "    <b><a href=\"https://scikit-uplift.readthedocs.io/en/latest/\">SCIKIT-UPLIFT DOCS</a> | </b>\n",
    "    <b><a href=\"https://scikit-uplift.readthedocs.io/en/latest/user_guide/index.html\">USER GUIDE</a></b>\n",
    "    <br>\n",
    "</center>"
   ]
  },
  {
   "cell_type": "code",
   "execution_count": 1,
   "metadata": {
    "ExecuteTime": {
     "end_time": "2021-02-19T20:20:26.539268Z",
     "start_time": "2021-02-19T20:20:26.526760Z"
    }
   },
   "outputs": [],
   "source": [
    "import sys\n",
    "\n",
    "# install uplift library scikit-uplift and other libraries \n",
    "!{sys.executable} -m pip install scikit-uplift dill catboost"
   ]
  },
  {
   "cell_type": "markdown",
   "metadata": {},
   "source": [
    "# 📝 Load data\n",
    "\n",
    "We are going to use a `Lenta dataset` from the BigTarget Hackathon hosted in summer 2020 by Lenta and Microsoft.\n",
    "\n",
    "Lenta is a russian food retailer. \n",
    "\n",
    "### Data description\n",
    "\n",
    "✏️ Dataset can be loaded from `sklift.datasets` module using `fetch_lenta` function.\n",
    "\n",
    "Read more about dataset <a href=\"https://www.uplift-modeling.com/en/latest/api/datasets/fetch_lenta.html\">in the api docs</a>.  \n",
    "\n",
    "This is an uplift modeling dataset containing data about Lenta's customers grociery shopping, marketing campaigns communications as `treatment` and store visits as `target`.\n",
    "\n",
    "####  ✏️ Major columns:\n",
    "\n",
    "- `group` - treatment / control flag\n",
    "- `response_att` - binary target\n",
    "- `CardHolder` - customer id\n",
    "- `gender` - customer gender \n",
    "- `age` - customer age"
   ]
  },
  {
   "cell_type": "code",
   "execution_count": 2,
   "metadata": {
    "ExecuteTime": {
     "end_time": "2021-02-19T20:20:53.041410Z",
     "start_time": "2021-02-19T20:20:31.218625Z"
    },
    "scrolled": true
   },
   "outputs": [],
   "source": [
    "from sklift.datasets import fetch_lenta\n",
    "\n",
    "# returns sklearn Bunch object\n",
    "# with data, target, treatment keys\n",
    "# data features (pd.DataFrame), target (pd.Series), treatment (pd.Series) values \n",
    "dataset = fetch_lenta()"
   ]
  },
  {
   "cell_type": "code",
   "execution_count": 3,
   "metadata": {
    "ExecuteTime": {
     "end_time": "2021-02-19T20:20:53.086524Z",
     "start_time": "2021-02-19T20:20:53.044019Z"
    }
   },
   "outputs": [
    {
     "name": "stdout",
     "output_type": "stream",
     "text": [
      "Dataset type: <class 'sklearn.utils.Bunch'>\n",
      "\n",
      "Dataset features shape: (687029, 193)\n",
      "Dataset target shape: (687029,)\n",
      "Dataset treatment shape: (687029,)\n"
     ]
    }
   ],
   "source": [
    "print(f\"Dataset type: {type(dataset)}\\n\")\n",
    "print(f\"Dataset features shape: {dataset.data.shape}\")\n",
    "print(f\"Dataset target shape: {dataset.target.shape}\")\n",
    "print(f\"Dataset treatment shape: {dataset.treatment.shape}\")"
   ]
  },
  {
   "cell_type": "markdown",
   "metadata": {},
   "source": [
    "# 📝 EDA"
   ]
  },
  {
   "cell_type": "code",
   "execution_count": 4,
   "metadata": {
    "ExecuteTime": {
     "end_time": "2021-02-19T20:20:53.181597Z",
     "start_time": "2021-02-19T20:20:53.100485Z"
    }
   },
   "outputs": [
    {
     "data": {
      "text/html": [
       "<div>\n",
       "<style scoped>\n",
       "    .dataframe tbody tr th:only-of-type {\n",
       "        vertical-align: middle;\n",
       "    }\n",
       "\n",
       "    .dataframe tbody tr th {\n",
       "        vertical-align: top;\n",
       "    }\n",
       "\n",
       "    .dataframe thead th {\n",
       "        text-align: right;\n",
       "    }\n",
       "</style>\n",
       "<table border=\"1\" class=\"dataframe\">\n",
       "  <thead>\n",
       "    <tr style=\"text-align: right;\">\n",
       "      <th></th>\n",
       "      <th>age</th>\n",
       "      <th>cheque_count_12m_g20</th>\n",
       "      <th>cheque_count_12m_g21</th>\n",
       "      <th>cheque_count_12m_g25</th>\n",
       "      <th>cheque_count_12m_g32</th>\n",
       "      <th>cheque_count_12m_g33</th>\n",
       "      <th>cheque_count_12m_g38</th>\n",
       "      <th>cheque_count_12m_g39</th>\n",
       "      <th>cheque_count_12m_g41</th>\n",
       "      <th>cheque_count_12m_g42</th>\n",
       "      <th>...</th>\n",
       "      <th>sale_sum_6m_g24</th>\n",
       "      <th>sale_sum_6m_g25</th>\n",
       "      <th>sale_sum_6m_g26</th>\n",
       "      <th>sale_sum_6m_g32</th>\n",
       "      <th>sale_sum_6m_g33</th>\n",
       "      <th>sale_sum_6m_g44</th>\n",
       "      <th>sale_sum_6m_g54</th>\n",
       "      <th>stdev_days_between_visits_15d</th>\n",
       "      <th>stdev_discount_depth_15d</th>\n",
       "      <th>stdev_discount_depth_1m</th>\n",
       "    </tr>\n",
       "  </thead>\n",
       "  <tbody>\n",
       "    <tr>\n",
       "      <th>0</th>\n",
       "      <td>47.0</td>\n",
       "      <td>3.0</td>\n",
       "      <td>22.0</td>\n",
       "      <td>19.0</td>\n",
       "      <td>3.0</td>\n",
       "      <td>28.0</td>\n",
       "      <td>8.0</td>\n",
       "      <td>7.0</td>\n",
       "      <td>6.0</td>\n",
       "      <td>1.0</td>\n",
       "      <td>...</td>\n",
       "      <td>3141.25</td>\n",
       "      <td>356.67</td>\n",
       "      <td>237.25</td>\n",
       "      <td>283.84</td>\n",
       "      <td>3648.23</td>\n",
       "      <td>1195.37</td>\n",
       "      <td>535.42</td>\n",
       "      <td>1.7078</td>\n",
       "      <td>0.2798</td>\n",
       "      <td>0.3008</td>\n",
       "    </tr>\n",
       "    <tr>\n",
       "      <th>1</th>\n",
       "      <td>57.0</td>\n",
       "      <td>1.0</td>\n",
       "      <td>0.0</td>\n",
       "      <td>2.0</td>\n",
       "      <td>1.0</td>\n",
       "      <td>1.0</td>\n",
       "      <td>1.0</td>\n",
       "      <td>0.0</td>\n",
       "      <td>1.0</td>\n",
       "      <td>0.0</td>\n",
       "      <td>...</td>\n",
       "      <td>113.39</td>\n",
       "      <td>62.69</td>\n",
       "      <td>58.71</td>\n",
       "      <td>87.01</td>\n",
       "      <td>179.83</td>\n",
       "      <td>0.00</td>\n",
       "      <td>122.98</td>\n",
       "      <td>0.0000</td>\n",
       "      <td>0.0000</td>\n",
       "      <td>0.0000</td>\n",
       "    </tr>\n",
       "    <tr>\n",
       "      <th>2</th>\n",
       "      <td>38.0</td>\n",
       "      <td>7.0</td>\n",
       "      <td>0.0</td>\n",
       "      <td>15.0</td>\n",
       "      <td>4.0</td>\n",
       "      <td>9.0</td>\n",
       "      <td>5.0</td>\n",
       "      <td>9.0</td>\n",
       "      <td>14.0</td>\n",
       "      <td>7.0</td>\n",
       "      <td>...</td>\n",
       "      <td>1239.19</td>\n",
       "      <td>533.46</td>\n",
       "      <td>83.37</td>\n",
       "      <td>593.13</td>\n",
       "      <td>1217.43</td>\n",
       "      <td>1336.83</td>\n",
       "      <td>3709.82</td>\n",
       "      <td>0.0000</td>\n",
       "      <td>NaN</td>\n",
       "      <td>0.0803</td>\n",
       "    </tr>\n",
       "    <tr>\n",
       "      <th>3</th>\n",
       "      <td>65.0</td>\n",
       "      <td>6.0</td>\n",
       "      <td>3.0</td>\n",
       "      <td>25.0</td>\n",
       "      <td>2.0</td>\n",
       "      <td>10.0</td>\n",
       "      <td>14.0</td>\n",
       "      <td>11.0</td>\n",
       "      <td>8.0</td>\n",
       "      <td>1.0</td>\n",
       "      <td>...</td>\n",
       "      <td>139.68</td>\n",
       "      <td>1849.91</td>\n",
       "      <td>360.40</td>\n",
       "      <td>175.73</td>\n",
       "      <td>496.73</td>\n",
       "      <td>172.58</td>\n",
       "      <td>1246.21</td>\n",
       "      <td>0.0000</td>\n",
       "      <td>0.0000</td>\n",
       "      <td>0.0000</td>\n",
       "    </tr>\n",
       "    <tr>\n",
       "      <th>4</th>\n",
       "      <td>61.0</td>\n",
       "      <td>0.0</td>\n",
       "      <td>1.0</td>\n",
       "      <td>2.0</td>\n",
       "      <td>0.0</td>\n",
       "      <td>2.0</td>\n",
       "      <td>1.0</td>\n",
       "      <td>0.0</td>\n",
       "      <td>3.0</td>\n",
       "      <td>2.0</td>\n",
       "      <td>...</td>\n",
       "      <td>226.98</td>\n",
       "      <td>168.05</td>\n",
       "      <td>461.37</td>\n",
       "      <td>0.00</td>\n",
       "      <td>237.93</td>\n",
       "      <td>225.51</td>\n",
       "      <td>995.27</td>\n",
       "      <td>1.4142</td>\n",
       "      <td>0.3495</td>\n",
       "      <td>0.3495</td>\n",
       "    </tr>\n",
       "    <tr>\n",
       "      <th>687024</th>\n",
       "      <td>35.0</td>\n",
       "      <td>0.0</td>\n",
       "      <td>0.0</td>\n",
       "      <td>4.0</td>\n",
       "      <td>0.0</td>\n",
       "      <td>2.0</td>\n",
       "      <td>0.0</td>\n",
       "      <td>1.0</td>\n",
       "      <td>0.0</td>\n",
       "      <td>3.0</td>\n",
       "      <td>...</td>\n",
       "      <td>550.09</td>\n",
       "      <td>669.33</td>\n",
       "      <td>111.87</td>\n",
       "      <td>0.00</td>\n",
       "      <td>330.96</td>\n",
       "      <td>1173.84</td>\n",
       "      <td>119.99</td>\n",
       "      <td>2.6458</td>\n",
       "      <td>0.3646</td>\n",
       "      <td>0.3282</td>\n",
       "    </tr>\n",
       "    <tr>\n",
       "      <th>687025</th>\n",
       "      <td>33.0</td>\n",
       "      <td>0.0</td>\n",
       "      <td>0.0</td>\n",
       "      <td>0.0</td>\n",
       "      <td>0.0</td>\n",
       "      <td>0.0</td>\n",
       "      <td>0.0</td>\n",
       "      <td>0.0</td>\n",
       "      <td>0.0</td>\n",
       "      <td>0.0</td>\n",
       "      <td>...</td>\n",
       "      <td>0.00</td>\n",
       "      <td>0.00</td>\n",
       "      <td>0.00</td>\n",
       "      <td>0.00</td>\n",
       "      <td>0.00</td>\n",
       "      <td>0.00</td>\n",
       "      <td>28.01</td>\n",
       "      <td>0.0000</td>\n",
       "      <td>0.0000</td>\n",
       "      <td>0.0000</td>\n",
       "    </tr>\n",
       "    <tr>\n",
       "      <th>687026</th>\n",
       "      <td>36.0</td>\n",
       "      <td>0.0</td>\n",
       "      <td>0.0</td>\n",
       "      <td>3.0</td>\n",
       "      <td>0.0</td>\n",
       "      <td>0.0</td>\n",
       "      <td>0.0</td>\n",
       "      <td>0.0</td>\n",
       "      <td>1.0</td>\n",
       "      <td>0.0</td>\n",
       "      <td>...</td>\n",
       "      <td>0.00</td>\n",
       "      <td>0.00</td>\n",
       "      <td>0.00</td>\n",
       "      <td>0.00</td>\n",
       "      <td>0.00</td>\n",
       "      <td>449.01</td>\n",
       "      <td>0.00</td>\n",
       "      <td>0.0000</td>\n",
       "      <td>NaN</td>\n",
       "      <td>NaN</td>\n",
       "    </tr>\n",
       "    <tr>\n",
       "      <th>687027</th>\n",
       "      <td>37.0</td>\n",
       "      <td>0.0</td>\n",
       "      <td>1.0</td>\n",
       "      <td>2.0</td>\n",
       "      <td>0.0</td>\n",
       "      <td>0.0</td>\n",
       "      <td>0.0</td>\n",
       "      <td>0.0</td>\n",
       "      <td>0.0</td>\n",
       "      <td>1.0</td>\n",
       "      <td>...</td>\n",
       "      <td>0.00</td>\n",
       "      <td>46.72</td>\n",
       "      <td>0.00</td>\n",
       "      <td>0.00</td>\n",
       "      <td>0.00</td>\n",
       "      <td>0.00</td>\n",
       "      <td>0.00</td>\n",
       "      <td>0.0000</td>\n",
       "      <td>NaN</td>\n",
       "      <td>NaN</td>\n",
       "    </tr>\n",
       "    <tr>\n",
       "      <th>687028</th>\n",
       "      <td>40.0</td>\n",
       "      <td>0.0</td>\n",
       "      <td>1.0</td>\n",
       "      <td>0.0</td>\n",
       "      <td>0.0</td>\n",
       "      <td>2.0</td>\n",
       "      <td>0.0</td>\n",
       "      <td>0.0</td>\n",
       "      <td>2.0</td>\n",
       "      <td>2.0</td>\n",
       "      <td>...</td>\n",
       "      <td>290.01</td>\n",
       "      <td>0.00</td>\n",
       "      <td>0.00</td>\n",
       "      <td>0.00</td>\n",
       "      <td>228.47</td>\n",
       "      <td>752.32</td>\n",
       "      <td>596.86</td>\n",
       "      <td>0.0000</td>\n",
       "      <td>0.0000</td>\n",
       "      <td>0.0000</td>\n",
       "    </tr>\n",
       "  </tbody>\n",
       "</table>\n",
       "<p>10 rows × 193 columns</p>\n",
       "</div>"
      ],
      "text/plain": [
       "         age  cheque_count_12m_g20  cheque_count_12m_g21  \\\n",
       "0       47.0                   3.0                  22.0   \n",
       "1       57.0                   1.0                   0.0   \n",
       "2       38.0                   7.0                   0.0   \n",
       "3       65.0                   6.0                   3.0   \n",
       "4       61.0                   0.0                   1.0   \n",
       "687024  35.0                   0.0                   0.0   \n",
       "687025  33.0                   0.0                   0.0   \n",
       "687026  36.0                   0.0                   0.0   \n",
       "687027  37.0                   0.0                   1.0   \n",
       "687028  40.0                   0.0                   1.0   \n",
       "\n",
       "        cheque_count_12m_g25  cheque_count_12m_g32  cheque_count_12m_g33  \\\n",
       "0                       19.0                   3.0                  28.0   \n",
       "1                        2.0                   1.0                   1.0   \n",
       "2                       15.0                   4.0                   9.0   \n",
       "3                       25.0                   2.0                  10.0   \n",
       "4                        2.0                   0.0                   2.0   \n",
       "687024                   4.0                   0.0                   2.0   \n",
       "687025                   0.0                   0.0                   0.0   \n",
       "687026                   3.0                   0.0                   0.0   \n",
       "687027                   2.0                   0.0                   0.0   \n",
       "687028                   0.0                   0.0                   2.0   \n",
       "\n",
       "        cheque_count_12m_g38  cheque_count_12m_g39  cheque_count_12m_g41  \\\n",
       "0                        8.0                   7.0                   6.0   \n",
       "1                        1.0                   0.0                   1.0   \n",
       "2                        5.0                   9.0                  14.0   \n",
       "3                       14.0                  11.0                   8.0   \n",
       "4                        1.0                   0.0                   3.0   \n",
       "687024                   0.0                   1.0                   0.0   \n",
       "687025                   0.0                   0.0                   0.0   \n",
       "687026                   0.0                   0.0                   1.0   \n",
       "687027                   0.0                   0.0                   0.0   \n",
       "687028                   0.0                   0.0                   2.0   \n",
       "\n",
       "        cheque_count_12m_g42  ...  sale_sum_6m_g24  sale_sum_6m_g25  \\\n",
       "0                        1.0  ...          3141.25           356.67   \n",
       "1                        0.0  ...           113.39            62.69   \n",
       "2                        7.0  ...          1239.19           533.46   \n",
       "3                        1.0  ...           139.68          1849.91   \n",
       "4                        2.0  ...           226.98           168.05   \n",
       "687024                   3.0  ...           550.09           669.33   \n",
       "687025                   0.0  ...             0.00             0.00   \n",
       "687026                   0.0  ...             0.00             0.00   \n",
       "687027                   1.0  ...             0.00            46.72   \n",
       "687028                   2.0  ...           290.01             0.00   \n",
       "\n",
       "        sale_sum_6m_g26  sale_sum_6m_g32  sale_sum_6m_g33  sale_sum_6m_g44  \\\n",
       "0                237.25           283.84          3648.23          1195.37   \n",
       "1                 58.71            87.01           179.83             0.00   \n",
       "2                 83.37           593.13          1217.43          1336.83   \n",
       "3                360.40           175.73           496.73           172.58   \n",
       "4                461.37             0.00           237.93           225.51   \n",
       "687024           111.87             0.00           330.96          1173.84   \n",
       "687025             0.00             0.00             0.00             0.00   \n",
       "687026             0.00             0.00             0.00           449.01   \n",
       "687027             0.00             0.00             0.00             0.00   \n",
       "687028             0.00             0.00           228.47           752.32   \n",
       "\n",
       "        sale_sum_6m_g54  stdev_days_between_visits_15d  \\\n",
       "0                535.42                         1.7078   \n",
       "1                122.98                         0.0000   \n",
       "2               3709.82                         0.0000   \n",
       "3               1246.21                         0.0000   \n",
       "4                995.27                         1.4142   \n",
       "687024           119.99                         2.6458   \n",
       "687025            28.01                         0.0000   \n",
       "687026             0.00                         0.0000   \n",
       "687027             0.00                         0.0000   \n",
       "687028           596.86                         0.0000   \n",
       "\n",
       "        stdev_discount_depth_15d  stdev_discount_depth_1m  \n",
       "0                         0.2798                   0.3008  \n",
       "1                         0.0000                   0.0000  \n",
       "2                            NaN                   0.0803  \n",
       "3                         0.0000                   0.0000  \n",
       "4                         0.3495                   0.3495  \n",
       "687024                    0.3646                   0.3282  \n",
       "687025                    0.0000                   0.0000  \n",
       "687026                       NaN                      NaN  \n",
       "687027                       NaN                      NaN  \n",
       "687028                    0.0000                   0.0000  \n",
       "\n",
       "[10 rows x 193 columns]"
      ]
     },
     "execution_count": 4,
     "metadata": {},
     "output_type": "execute_result"
    }
   ],
   "source": [
    "dataset.data.head().append(dataset.data.tail())"
   ]
  },
  {
   "cell_type": "markdown",
   "metadata": {},
   "source": [
    "### 🤔 target share for `treatment / control` "
   ]
  },
  {
   "cell_type": "code",
   "execution_count": 5,
   "metadata": {
    "ExecuteTime": {
     "end_time": "2021-02-19T20:20:53.356948Z",
     "start_time": "2021-02-19T20:20:53.193956Z"
    }
   },
   "outputs": [
    {
     "data": {
      "text/html": [
       "<div>\n",
       "<style scoped>\n",
       "    .dataframe tbody tr th:only-of-type {\n",
       "        vertical-align: middle;\n",
       "    }\n",
       "\n",
       "    .dataframe tbody tr th {\n",
       "        vertical-align: top;\n",
       "    }\n",
       "\n",
       "    .dataframe thead th {\n",
       "        text-align: right;\n",
       "    }\n",
       "</style>\n",
       "<table border=\"1\" class=\"dataframe\">\n",
       "  <thead>\n",
       "    <tr style=\"text-align: right;\">\n",
       "      <th>response_att</th>\n",
       "      <th>0</th>\n",
       "      <th>1</th>\n",
       "    </tr>\n",
       "    <tr>\n",
       "      <th>group</th>\n",
       "      <th></th>\n",
       "      <th></th>\n",
       "    </tr>\n",
       "  </thead>\n",
       "  <tbody>\n",
       "    <tr>\n",
       "      <th>control</th>\n",
       "      <td>0.897421</td>\n",
       "      <td>0.102579</td>\n",
       "    </tr>\n",
       "    <tr>\n",
       "      <th>test</th>\n",
       "      <td>0.889874</td>\n",
       "      <td>0.110126</td>\n",
       "    </tr>\n",
       "  </tbody>\n",
       "</table>\n",
       "</div>"
      ],
      "text/plain": [
       "response_att         0         1\n",
       "group                           \n",
       "control       0.897421  0.102579\n",
       "test          0.889874  0.110126"
      ]
     },
     "execution_count": 5,
     "metadata": {},
     "output_type": "execute_result"
    }
   ],
   "source": [
    "import pandas as pd \n",
    "\n",
    "pd.crosstab(dataset.treatment, dataset.target, normalize='index')"
   ]
  },
  {
   "cell_type": "code",
   "execution_count": 6,
   "metadata": {
    "ExecuteTime": {
     "end_time": "2021-02-19T20:20:53.427973Z",
     "start_time": "2021-02-19T20:20:53.361728Z"
    }
   },
   "outputs": [],
   "source": [
    "# make treatment binary\n",
    "treat_dict = {\n",
    "    'test': 1,\n",
    "    'control': 0\n",
    "}\n",
    "\n",
    "dataset.treatment = dataset.treatment.map(treat_dict)"
   ]
  },
  {
   "cell_type": "code",
   "execution_count": 7,
   "metadata": {
    "ExecuteTime": {
     "end_time": "2021-02-19T20:20:53.545895Z",
     "start_time": "2021-02-19T20:20:53.430192Z"
    }
   },
   "outputs": [
    {
     "name": "stdout",
     "output_type": "stream",
     "text": [
      "Ж               433448\n",
      "М               243910\n",
      "Не определен      9671\n",
      "Name: gender, dtype: int64\n"
     ]
    }
   ],
   "source": [
    "# fill NaNs in the categorical feature `gender` \n",
    "# for CatBoostClassifier\n",
    "dataset.data['gender'] = dataset.data['gender'].fillna(value='Не определен')\n",
    "\n",
    "print(dataset.data['gender'].value_counts(dropna=False))"
   ]
  },
  {
   "cell_type": "markdown",
   "metadata": {},
   "source": [
    "### ✂️ train test split\n",
    "\n",
    "- stratify by two columns: treatment and target. \n",
    "\n",
    "`Intuition:` In a binary classification problem definition we stratify train set by splitting target `0/1` column. In uplift modeling we have two columns instead of one. "
   ]
  },
  {
   "cell_type": "code",
   "execution_count": 8,
   "metadata": {
    "ExecuteTime": {
     "end_time": "2021-02-19T20:21:03.159534Z",
     "start_time": "2021-02-19T20:20:53.548597Z"
    }
   },
   "outputs": [
    {
     "name": "stdout",
     "output_type": "stream",
     "text": [
      "Train shape: (480920, 193)\n",
      "Validation shape: (206109, 193)\n"
     ]
    }
   ],
   "source": [
    "from sklearn.model_selection import train_test_split\n",
    "\n",
    "stratify_cols = pd.concat([dataset.treatment, dataset.target], axis=1)\n",
    "\n",
    "X_train, X_val, trmnt_train, trmnt_val, y_train, y_val = train_test_split(\n",
    "    dataset.data,\n",
    "    dataset.treatment,\n",
    "    dataset.target,\n",
    "    stratify=stratify_cols,\n",
    "    test_size=0.3,\n",
    "    random_state=42\n",
    ")\n",
    "\n",
    "print(f\"Train shape: {X_train.shape}\")\n",
    "print(f\"Validation shape: {X_val.shape}\")"
   ]
  },
  {
   "cell_type": "markdown",
   "metadata": {
    "ExecuteTime": {
     "end_time": "2020-06-07T17:47:46.311346Z",
     "start_time": "2020-06-07T17:47:46.293688Z"
    }
   },
   "source": [
    "# 👾 Class Transformation uplift model\n",
    "\n",
    "`Class transformation` method is described <a href=\"https://www.uplift-modeling.com/en/latest/user_guide/models/revert_label.html\"> here</a>  \n",
    "\n",
    "Class transormation method `may` be used in case of treatment unbalanced data. In this case one will get not an uplift score but some *ranking* score still useful for ranking objects."
   ]
  },
  {
   "cell_type": "code",
   "execution_count": 9,
   "metadata": {
    "ExecuteTime": {
     "end_time": "2021-02-19T20:21:03.204975Z",
     "start_time": "2021-02-19T20:21:03.165305Z"
    }
   },
   "outputs": [],
   "source": [
    "from sklift.models import ClassTransformation\n",
    "from catboost import CatBoostClassifier\n",
    "\n",
    "estimator = CatBoostClassifier(verbose=100, \n",
    "                               cat_features=['gender'],\n",
    "                               random_state=42,\n",
    "                               thread_count=1)\n",
    "\n",
    "ct_model = ClassTransformation(estimator=estimator)"
   ]
  },
  {
   "cell_type": "code",
   "execution_count": 10,
   "metadata": {
    "ExecuteTime": {
     "end_time": "2021-02-19T20:37:38.852200Z",
     "start_time": "2021-02-19T20:21:03.208181Z"
    }
   },
   "outputs": [
    {
     "name": "stderr",
     "output_type": "stream",
     "text": [
      "/Users/macdrive/GoogleDrive/Проекты/Uplift/sklift-env/lib/python3.7/site-packages/ipykernel_launcher.py:4: UserWarning: It is recommended to use this approach on treatment balanced data. Current sample size is unbalanced.\n",
      "  after removing the cwd from sys.path.\n"
     ]
    },
    {
     "name": "stdout",
     "output_type": "stream",
     "text": [
      "Learning rate set to 0.143939\n",
      "0:\tlearn: 0.6685632\ttotal: 1.03s\tremaining: 17m 6s\n",
      "100:\tlearn: 0.5948982\ttotal: 1m 34s\tremaining: 14m\n",
      "200:\tlearn: 0.5907078\ttotal: 3m 16s\tremaining: 13m 3s\n",
      "300:\tlearn: 0.5869612\ttotal: 4m 51s\tremaining: 11m 16s\n",
      "400:\tlearn: 0.5835421\ttotal: 6m 35s\tremaining: 9m 51s\n",
      "500:\tlearn: 0.5801981\ttotal: 8m 31s\tremaining: 8m 29s\n",
      "600:\tlearn: 0.5769677\ttotal: 10m 13s\tremaining: 6m 47s\n",
      "700:\tlearn: 0.5737862\ttotal: 11m 44s\tremaining: 5m\n",
      "800:\tlearn: 0.5706947\ttotal: 13m 37s\tremaining: 3m 23s\n",
      "900:\tlearn: 0.5677125\ttotal: 15m 7s\tremaining: 1m 39s\n",
      "999:\tlearn: 0.5648426\ttotal: 16m 29s\tremaining: 0us\n"
     ]
    },
    {
     "data": {
      "text/plain": [
       "ClassTransformation(estimator=<catboost.core.CatBoostClassifier object at 0x12212bba8>)"
      ]
     },
     "execution_count": 10,
     "metadata": {},
     "output_type": "execute_result"
    }
   ],
   "source": [
    "ct_model.fit(\n",
    "    X=X_train, \n",
    "    y=y_train, \n",
    "    treatment=trmnt_train\n",
    ")"
   ]
  },
  {
   "cell_type": "markdown",
   "metadata": {},
   "source": [
    "### Save model"
   ]
  },
  {
   "cell_type": "code",
   "execution_count": 11,
   "metadata": {
    "ExecuteTime": {
     "end_time": "2021-02-19T20:37:38.925679Z",
     "start_time": "2021-02-19T20:37:38.857315Z"
    }
   },
   "outputs": [],
   "source": [
    "import dill\n",
    "\n",
    "with open(\"model.dill\", 'wb') as f:\n",
    "    dill.dump(ct_model, f)"
   ]
  },
  {
   "cell_type": "markdown",
   "metadata": {},
   "source": [
    "### Uplift prediction"
   ]
  },
  {
   "cell_type": "code",
   "execution_count": 12,
   "metadata": {
    "ExecuteTime": {
     "end_time": "2021-02-19T20:37:39.642947Z",
     "start_time": "2021-02-19T20:37:38.928915Z"
    }
   },
   "outputs": [],
   "source": [
    "uplift_ct = ct_model.predict(X_val)"
   ]
  },
  {
   "cell_type": "markdown",
   "metadata": {},
   "source": [
    "# 🚀🚀🚀 Uplift metrics"
   ]
  },
  {
   "cell_type": "markdown",
   "metadata": {},
   "source": [
    "##  🚀 `uplift@k`\n",
    "\n",
    "- uplift at first k%\n",
    "- usually falls between [0; 1] depending on k, model quality and data\n",
    "\n",
    "\n",
    "### `uplift@k` = `target mean at k% in the treatment group` - `target mean at k% in the control group`\n",
    "\n",
    "___\n",
    "\n",
    "How to count `uplift@k`:\n",
    "\n",
    "1. sort by predicted uplift\n",
    "2. select first k%\n",
    "3. count target mean in the treatment group\n",
    "4. count target mean in the control group\n",
    "5. substract the mean in the control group from the mean in the treatment group\n",
    "\n",
    "---\n",
    "\n",
    "Code parameter options:\n",
    "\n",
    "- `strategy='overall'` - sort by uplift treatment and control together\n",
    "- `strategy='by_group'` - sort by uplift treatment and control separately"
   ]
  },
  {
   "cell_type": "code",
   "execution_count": 14,
   "metadata": {
    "ExecuteTime": {
     "end_time": "2021-02-18T19:36:32.767618Z",
     "start_time": "2021-02-18T19:36:32.618887Z"
    }
   },
   "outputs": [
    {
     "name": "stdout",
     "output_type": "stream",
     "text": [
      "uplift@10%: 0.1467 (sort groups by uplift together)\n",
      "uplift@10%: 0.1503 (sort groups by uplift separately)\n"
     ]
    }
   ],
   "source": [
    "from sklift.metrics import uplift_at_k\n",
    "\n",
    "# k = 10%\n",
    "k = 0.1  \n",
    "\n",
    "# strategy='overall' sort by uplift treatment and control together\n",
    "uplift_overall = uplift_at_k(y_val, uplift_ct, trmnt_val, strategy='overall', k=k)\n",
    "\n",
    "# strategy='by_group' sort by uplift treatment and control separately\n",
    "uplift_bygroup = uplift_at_k(y_val, uplift_ct, trmnt_val, strategy='by_group', k=k)\n",
    "\n",
    "\n",
    "print(f\"uplift@{k * 100:.0f}%: {uplift_overall:.4f} (sort groups by uplift together)\")\n",
    "print(f\"uplift@{k * 100:.0f}%: {uplift_bygroup:.4f} (sort groups by uplift separately)\")"
   ]
  },
  {
   "cell_type": "markdown",
   "metadata": {},
   "source": [
    "## 🚀 `uplift_by_percentile` table\n",
    "\n",
    "Count metrics for each percentile in data in descending order by uplift prediction (by rows):\n",
    "\n",
    "- `n_treatment` - treatment group size in the one percentile\n",
    "- `n_control` - control group size in the one perentile\n",
    "- `response_rate_treatment` -  target mean in the treatment group in the one percentile\n",
    "- `response_rate_control` - target mean in the control group in the one percentile\n",
    "- `uplift = response_rate_treatment - response_rate_control` in the one percentile\n",
    "\n",
    "___\n",
    "\n",
    "Code parameter options are:\n",
    "\n",
    "- `strategy='overall'` - sort by uplift treatment and control groups together\n",
    "- `strategy='by_group'` - sort by uplift treatment and control groups separately\n",
    "- `total=True` - show total metric on full data\n",
    "- `std=True` - show metrics std by row "
   ]
  },
  {
   "cell_type": "code",
   "execution_count": 15,
   "metadata": {
    "ExecuteTime": {
     "end_time": "2021-02-18T19:36:49.986630Z",
     "start_time": "2021-02-18T19:36:49.766425Z"
    },
    "scrolled": false
   },
   "outputs": [
    {
     "data": {
      "text/html": [
       "<div>\n",
       "<style scoped>\n",
       "    .dataframe tbody tr th:only-of-type {\n",
       "        vertical-align: middle;\n",
       "    }\n",
       "\n",
       "    .dataframe tbody tr th {\n",
       "        vertical-align: top;\n",
       "    }\n",
       "\n",
       "    .dataframe thead th {\n",
       "        text-align: right;\n",
       "    }\n",
       "</style>\n",
       "<table border=\"1\" class=\"dataframe\">\n",
       "  <thead>\n",
       "    <tr style=\"text-align: right;\">\n",
       "      <th></th>\n",
       "      <th>n_treatment</th>\n",
       "      <th>n_control</th>\n",
       "      <th>response_rate_treatment</th>\n",
       "      <th>response_rate_control</th>\n",
       "      <th>uplift</th>\n",
       "      <th>std_treatment</th>\n",
       "      <th>std_control</th>\n",
       "      <th>std_uplift</th>\n",
       "    </tr>\n",
       "    <tr>\n",
       "      <th>percentile</th>\n",
       "      <th></th>\n",
       "      <th></th>\n",
       "      <th></th>\n",
       "      <th></th>\n",
       "      <th></th>\n",
       "      <th></th>\n",
       "      <th></th>\n",
       "      <th></th>\n",
       "    </tr>\n",
       "  </thead>\n",
       "  <tbody>\n",
       "    <tr>\n",
       "      <th>0-10</th>\n",
       "      <td>12715</td>\n",
       "      <td>7896</td>\n",
       "      <td>0.366339</td>\n",
       "      <td>0.219605</td>\n",
       "      <td>0.146734</td>\n",
       "      <td>0.004273</td>\n",
       "      <td>0.004659</td>\n",
       "      <td>0.006321</td>\n",
       "    </tr>\n",
       "    <tr>\n",
       "      <th>10-20</th>\n",
       "      <td>15560</td>\n",
       "      <td>5051</td>\n",
       "      <td>0.214267</td>\n",
       "      <td>0.197783</td>\n",
       "      <td>0.016485</td>\n",
       "      <td>0.003289</td>\n",
       "      <td>0.005605</td>\n",
       "      <td>0.006499</td>\n",
       "    </tr>\n",
       "    <tr>\n",
       "      <th>20-30</th>\n",
       "      <td>15683</td>\n",
       "      <td>4928</td>\n",
       "      <td>0.149525</td>\n",
       "      <td>0.130682</td>\n",
       "      <td>0.018843</td>\n",
       "      <td>0.002848</td>\n",
       "      <td>0.004801</td>\n",
       "      <td>0.005582</td>\n",
       "    </tr>\n",
       "    <tr>\n",
       "      <th>30-40</th>\n",
       "      <td>15675</td>\n",
       "      <td>4936</td>\n",
       "      <td>0.111388</td>\n",
       "      <td>0.098663</td>\n",
       "      <td>0.012725</td>\n",
       "      <td>0.002513</td>\n",
       "      <td>0.004245</td>\n",
       "      <td>0.004933</td>\n",
       "    </tr>\n",
       "    <tr>\n",
       "      <th>40-50</th>\n",
       "      <td>15798</td>\n",
       "      <td>4813</td>\n",
       "      <td>0.082795</td>\n",
       "      <td>0.077914</td>\n",
       "      <td>0.004881</td>\n",
       "      <td>0.002192</td>\n",
       "      <td>0.003864</td>\n",
       "      <td>0.004442</td>\n",
       "    </tr>\n",
       "    <tr>\n",
       "      <th>50-60</th>\n",
       "      <td>15776</td>\n",
       "      <td>4835</td>\n",
       "      <td>0.062500</td>\n",
       "      <td>0.057911</td>\n",
       "      <td>0.004589</td>\n",
       "      <td>0.001927</td>\n",
       "      <td>0.003359</td>\n",
       "      <td>0.003873</td>\n",
       "    </tr>\n",
       "    <tr>\n",
       "      <th>60-70</th>\n",
       "      <td>15768</td>\n",
       "      <td>4843</td>\n",
       "      <td>0.051560</td>\n",
       "      <td>0.050176</td>\n",
       "      <td>0.001385</td>\n",
       "      <td>0.001761</td>\n",
       "      <td>0.003137</td>\n",
       "      <td>0.003597</td>\n",
       "    </tr>\n",
       "    <tr>\n",
       "      <th>70-80</th>\n",
       "      <td>15793</td>\n",
       "      <td>4818</td>\n",
       "      <td>0.042171</td>\n",
       "      <td>0.034869</td>\n",
       "      <td>0.007301</td>\n",
       "      <td>0.001599</td>\n",
       "      <td>0.002643</td>\n",
       "      <td>0.003089</td>\n",
       "    </tr>\n",
       "    <tr>\n",
       "      <th>80-90</th>\n",
       "      <td>15884</td>\n",
       "      <td>4727</td>\n",
       "      <td>0.035193</td>\n",
       "      <td>0.031521</td>\n",
       "      <td>0.003672</td>\n",
       "      <td>0.001462</td>\n",
       "      <td>0.002541</td>\n",
       "      <td>0.002932</td>\n",
       "    </tr>\n",
       "    <tr>\n",
       "      <th>90-100</th>\n",
       "      <td>16116</td>\n",
       "      <td>4494</td>\n",
       "      <td>0.039030</td>\n",
       "      <td>0.041611</td>\n",
       "      <td>-0.002582</td>\n",
       "      <td>0.001526</td>\n",
       "      <td>0.002979</td>\n",
       "      <td>0.003347</td>\n",
       "    </tr>\n",
       "    <tr>\n",
       "      <th>total</th>\n",
       "      <td>154768</td>\n",
       "      <td>51341</td>\n",
       "      <td>0.110126</td>\n",
       "      <td>0.102569</td>\n",
       "      <td>0.007557</td>\n",
       "      <td>0.023390</td>\n",
       "      <td>0.037832</td>\n",
       "      <td>0.044615</td>\n",
       "    </tr>\n",
       "  </tbody>\n",
       "</table>\n",
       "</div>"
      ],
      "text/plain": [
       "            n_treatment  n_control  response_rate_treatment  \\\n",
       "percentile                                                    \n",
       "0-10              12715       7896                 0.366339   \n",
       "10-20             15560       5051                 0.214267   \n",
       "20-30             15683       4928                 0.149525   \n",
       "30-40             15675       4936                 0.111388   \n",
       "40-50             15798       4813                 0.082795   \n",
       "50-60             15776       4835                 0.062500   \n",
       "60-70             15768       4843                 0.051560   \n",
       "70-80             15793       4818                 0.042171   \n",
       "80-90             15884       4727                 0.035193   \n",
       "90-100            16116       4494                 0.039030   \n",
       "total            154768      51341                 0.110126   \n",
       "\n",
       "            response_rate_control    uplift  std_treatment  std_control  \\\n",
       "percentile                                                                \n",
       "0-10                     0.219605  0.146734       0.004273     0.004659   \n",
       "10-20                    0.197783  0.016485       0.003289     0.005605   \n",
       "20-30                    0.130682  0.018843       0.002848     0.004801   \n",
       "30-40                    0.098663  0.012725       0.002513     0.004245   \n",
       "40-50                    0.077914  0.004881       0.002192     0.003864   \n",
       "50-60                    0.057911  0.004589       0.001927     0.003359   \n",
       "60-70                    0.050176  0.001385       0.001761     0.003137   \n",
       "70-80                    0.034869  0.007301       0.001599     0.002643   \n",
       "80-90                    0.031521  0.003672       0.001462     0.002541   \n",
       "90-100                   0.041611 -0.002582       0.001526     0.002979   \n",
       "total                    0.102569  0.007557       0.023390     0.037832   \n",
       "\n",
       "            std_uplift  \n",
       "percentile              \n",
       "0-10          0.006321  \n",
       "10-20         0.006499  \n",
       "20-30         0.005582  \n",
       "30-40         0.004933  \n",
       "40-50         0.004442  \n",
       "50-60         0.003873  \n",
       "60-70         0.003597  \n",
       "70-80         0.003089  \n",
       "80-90         0.002932  \n",
       "90-100        0.003347  \n",
       "total         0.044615  "
      ]
     },
     "execution_count": 15,
     "metadata": {},
     "output_type": "execute_result"
    }
   ],
   "source": [
    "from sklift.metrics import uplift_by_percentile\n",
    "\n",
    "uplift_by_percentile(y_val, uplift_ct, trmnt_val, \n",
    "                     strategy='overall', \n",
    "                     total=True, std=True, bins=10)"
   ]
  },
  {
   "cell_type": "markdown",
   "metadata": {},
   "source": [
    "## 🚀 `weighted average uplift `\n",
    "\n",
    "- counts uplift on full data\n",
    "- uses results from `uplift_by_percentile` table\n",
    "- result depends on number of bins\n",
    "\n",
    "### `weighted average uplift` = `sum of uplift by percentile weighted on the treatment group size`\n"
   ]
  },
  {
   "cell_type": "code",
   "execution_count": 16,
   "metadata": {
    "ExecuteTime": {
     "end_time": "2021-02-18T19:36:55.281993Z",
     "start_time": "2021-02-18T19:36:55.170863Z"
    }
   },
   "outputs": [
    {
     "name": "stdout",
     "output_type": "stream",
     "text": [
      "average uplift on full data: 0.0189\n"
     ]
    }
   ],
   "source": [
    "from sklift.metrics import weighted_average_uplift\n",
    "\n",
    "uplift_full_data = weighted_average_uplift(y_val, uplift_ct, trmnt_val, bins=10) \n",
    "print(f\"average uplift on full data: {uplift_full_data:.4f}\")"
   ]
  },
  {
   "cell_type": "markdown",
   "metadata": {},
   "source": [
    "## 🚀 `uplift_by_percentile` plot\n",
    "\n",
    "- visualize results of `uplift_by_percentile` table\n",
    "\n",
    "Two ways to plot:\n",
    "\n",
    "- line plot `kind='line'`\n",
    "- bar plot `kind='bar'`\n"
   ]
  },
  {
   "cell_type": "code",
   "execution_count": 17,
   "metadata": {
    "ExecuteTime": {
     "end_time": "2021-02-18T19:37:01.771296Z",
     "start_time": "2021-02-18T19:37:00.777556Z"
    }
   },
   "outputs": [
    {
     "data": {
      "image/png": "[encoded data removed]",
      "text/plain": [
       "<Figure size 576x432 with 1 Axes>"
      ]
     },
     "metadata": {
      "needs_background": "light"
     },
     "output_type": "display_data"
    }
   ],
   "source": [
    "from sklift.viz import plot_uplift_by_percentile\n",
    "\n",
    "# line plot\n",
    "plot_uplift_by_percentile(y_val, uplift_ct, trmnt_val, strategy='overall', kind='line');"
   ]
  },
  {
   "cell_type": "code",
   "execution_count": 18,
   "metadata": {
    "ExecuteTime": {
     "end_time": "2021-02-18T19:37:05.278805Z",
     "start_time": "2021-02-18T19:37:04.673485Z"
    }
   },
   "outputs": [
    {
     "data": {
      "image/png": "[encoded data removed]",
      "text/plain": [
       "<Figure size 576x432 with 2 Axes>"
      ]
     },
     "metadata": {
      "needs_background": "light"
     },
     "output_type": "display_data"
    }
   ],
   "source": [
    "# bar plot\n",
    "plot_uplift_by_percentile(y_val, uplift_ct, trmnt_val, strategy='overall', kind='bar');"
   ]
  },
  {
   "attachments": {},
   "cell_type": "markdown",
   "metadata": {},
   "source": [
    "## 🚀  `Qini curve` \n",
    "\n",
    "The curve plots the absolute incremental outcome of the treated group compared to group with no treatment. \n",
    "\n",
    "\n",
    "plot Qini curve: \n",
    "- `blue line` is a `real Qini curve` based on data.\n",
    "- `red line` is an `ideal Qini curve` based on data. Code: `perfect=True`\n",
    "- `grey line` is a `random Qini curve` based on data\n",
    "    \n",
    "\n",
    "## 🚀 `AUQC` (`area under Qini curve` or `Qini coefficient`)\n",
    "\n",
    "`Qini coefficient` = `light blue area between the real Qini curve and the random Qini curve normalized on area between the random and the ideal line`\n",
    "\n",
    "<img src=\"https://habrastorage.org/getpro/habr/upload_files/18a/f90/b30/18af90b30dbdff84e1b3a8ab77195101.png\" width=\"400\" alt=\"qini_curve\">\n",
    "\n",
    "\n",
    "- metric is printed at the title of the Qini curve plot\n",
    "- can be called as a separate function"
   ]
  },
  {
   "cell_type": "code",
   "execution_count": 19,
   "metadata": {
    "ExecuteTime": {
     "end_time": "2021-02-18T19:37:13.035790Z",
     "start_time": "2021-02-18T19:37:12.272926Z"
    }
   },
   "outputs": [
    {
     "data": {
      "image/png": "[encoded data removed]",
      "text/plain": [
       "<Figure size 576x432 with 1 Axes>"
      ]
     },
     "metadata": {
      "needs_background": "light"
     },
     "output_type": "display_data"
    }
   ],
   "source": [
    "from sklift.viz import plot_qini_curve\n",
    "\n",
    "# with ideal Qini curve (red line)\n",
    "# perfect=True\n",
    "plot_qini_curve(y_val, uplift_ct, trmnt_val, perfect=True);"
   ]
  },
  {
   "cell_type": "code",
   "execution_count": 20,
   "metadata": {
    "ExecuteTime": {
     "end_time": "2021-02-18T19:37:17.212317Z",
     "start_time": "2021-02-18T19:37:16.455878Z"
    }
   },
   "outputs": [
    {
     "data": {
      "image/png": "[encoded data removed]",
      "text/plain": [
       "<Figure size 576x432 with 1 Axes>"
      ]
     },
     "metadata": {
      "needs_background": "light"
     },
     "output_type": "display_data"
    }
   ],
   "source": [
    "# no ideal Qini curve\n",
    "# only real Qini curve\n",
    "# perfect=False\n",
    "plot_qini_curve(y_val, uplift_ct, trmnt_val, perfect=False);"
   ]
  },
  {
   "cell_type": "code",
   "execution_count": 21,
   "metadata": {
    "ExecuteTime": {
     "end_time": "2021-02-18T19:37:20.543940Z",
     "start_time": "2021-02-18T19:37:20.415593Z"
    }
   },
   "outputs": [
    {
     "name": "stdout",
     "output_type": "stream",
     "text": [
      "Qini coefficient on full data: 0.0695\n"
     ]
    }
   ],
   "source": [
    "from sklift.metrics import qini_auc_score\n",
    "\n",
    "# AUQC = area under Qini curve = Qini coefficient\n",
    "auqc = qini_auc_score(y_val, uplift_ct, trmnt_val) \n",
    "print(f\"Qini coefficient on full data: {auqc:.4f}\")"
   ]
  },
  {
   "cell_type": "markdown",
   "metadata": {},
   "source": [
    "## 🚀 `Uplift curve` \n",
    "\n",
    "The Uplift curve plots incremental uplift.\n",
    "\n",
    "\n",
    "   - `blue line` is a `real Uplift curve` based on data. \n",
    "   - `red line` is an `ideal Uplift curve` based on data. Code: `perfect=True`\n",
    "   - `grey line` is a `random Uplift curve` based on data.\n",
    "    \n",
    "\n",
    "## 🚀 `AUUQ` (`area under uplift curve`)\n",
    "\n",
    "- `Area under uplift curve` = blue area between the real Uplift curve and the random Uplift curve \n",
    "    - appears at the title of the Uplift curve plot\n",
    "    - can be called as a separate function\n"
   ]
  },
  {
   "cell_type": "code",
   "execution_count": 22,
   "metadata": {
    "ExecuteTime": {
     "end_time": "2021-02-18T19:37:23.685370Z",
     "start_time": "2021-02-18T19:37:22.944633Z"
    }
   },
   "outputs": [
    {
     "data": {
      "image/png": "[encoded data removed]",
      "text/plain": [
       "<Figure size 576x432 with 1 Axes>"
      ]
     },
     "metadata": {
      "needs_background": "light"
     },
     "output_type": "display_data"
    }
   ],
   "source": [
    "from sklift.viz import plot_uplift_curve\n",
    "\n",
    "# with ideal curve\n",
    "# perfect=True\n",
    "plot_uplift_curve(y_val, uplift_ct, trmnt_val, perfect=True);"
   ]
  },
  {
   "cell_type": "code",
   "execution_count": 23,
   "metadata": {
    "ExecuteTime": {
     "end_time": "2021-02-18T19:37:26.670587Z",
     "start_time": "2021-02-18T19:37:25.951757Z"
    }
   },
   "outputs": [
    {
     "data": {
      "image/png": "[encoded data removed]",
      "text/plain": [
       "<Figure size 576x432 with 1 Axes>"
      ]
     },
     "metadata": {
      "needs_background": "light"
     },
     "output_type": "display_data"
    }
   ],
   "source": [
    "# only real\n",
    "# perfect=False\n",
    "plot_uplift_curve(y_val, uplift_ct, trmnt_val, perfect=False);"
   ]
  },
  {
   "cell_type": "code",
   "execution_count": 24,
   "metadata": {
    "ExecuteTime": {
     "end_time": "2021-02-18T19:37:29.004818Z",
     "start_time": "2021-02-18T19:37:28.871390Z"
    }
   },
   "outputs": [
    {
     "name": "stdout",
     "output_type": "stream",
     "text": [
      "Uplift auc score on full data: 0.0422\n"
     ]
    }
   ],
   "source": [
    "from sklift.metrics import uplift_auc_score\n",
    "\n",
    "# AUUQ = area under uplift curve\n",
    "auuc = uplift_auc_score(y_val, uplift_ct, trmnt_val) \n",
    "print(f\"Uplift auc score on full data: {auuc:.4f}\")"
   ]
  },
  {
   "cell_type": "code",
   "execution_count": null,
   "metadata": {},
   "outputs": [],
   "source": []
  }
 ],
 "metadata": {
  "kernelspec": {
   "display_name": "sklift-env",
   "language": "python",
   "name": "sklift-env"
  },
  "language_info": {
   "codemirror_mode": {
    "name": "ipython",
    "version": 3
   },
   "file_extension": ".py",
   "mimetype": "text/x-python",
   "name": "python",
   "nbconvert_exporter": "python",
   "pygments_lexer": "ipython3",
   "version": "3.7.1"
  },
  "pycharm": {
   "stem_cell": {
    "cell_type": "raw",
    "source": [],
    "metadata": {
     "collapsed": false
    }
   }
  }
 },
 "nbformat": 4,
 "nbformat_minor": 4
}