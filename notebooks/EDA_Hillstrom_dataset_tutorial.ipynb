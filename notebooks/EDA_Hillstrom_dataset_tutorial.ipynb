{
 "cells": [
  {
   "cell_type": "markdown",
   "id": "c553a794",
   "metadata": {},
   "source": [
    "# 🎯 EDA Hillstrom `tutorial`\n",
    "\n",
    "<br>\n",
    "<center>\n",
    "    <a href=\"https://colab.research.google.com/github/maks-sh/scikit-uplift/blob/master/notebooks/EDA_Hillstrom_tutorial.ipynb\">\n",
    "        <img src=\"https://colab.research.google.com/assets/colab-badge.svg\">\n",
    "    </a>\n",
    "    <br>\n",
    "    <b><a href=\"https://github.com/maks-sh/scikit-uplift/\">SCIKIT-UPLIFT REPO</a> | </b>\n",
    "    <b><a href=\"https://scikit-uplift.readthedocs.io/en/latest/\">SCIKIT-UPLIFT DOCS</a> | </b>\n",
    "    <b><a href=\"https://scikit-uplift.readthedocs.io/en/latest/user_guide/index.html\">USER GUIDE</a></b>\n",
    "    <br>\n",
    "</center>"
   ]
  },
  {
   "cell_type": "code",
   "execution_count": 125,
   "id": "5e223c64",
   "metadata": {},
   "outputs": [],
   "source": [
    "import sys\n",
    "\n",
    "# install uplift library scikit-uplift and other libraries \n",
    "!{sys.executable} -m pip install scikit-uplift dill catboost"
   ]
  },
  {
   "cell_type": "code",
   "execution_count": 3,
   "id": "05decfa4",
   "metadata": {},
   "outputs": [
    {
     "name": "stdout",
     "output_type": "stream",
     "text": [
      "Requirement already satisfied: certifi>=2017.4.17 in c:\\users\\anatoly\\appdata\\local\\programs\\python\\python39\\lib\\site-packages (from requests->scikit-uplift) (2021.5.30)\n",
      "Requirement already satisfied: chardet<5,>=3.0.2 in c:\\users\\anatoly\\appdata\\local\\programs\\python\\python39\\lib\\site-packages (from requests->scikit-uplift) (4.0.0)\n"
     ]
    }
   ],
   "source": [
    "from matplotlib import pyplot as plt\n",
    "from sklift.metrics import uplift_at_k\n",
    "import seaborn as sns\n",
    "import numpy as np\n",
    "import pandas as pd"
   ]
  },
  {
   "cell_type": "markdown",
   "id": "57c436ed",
   "metadata": {},
   "source": [
    "# 📝 Load dataset"
   ]
  },
  {
   "cell_type": "markdown",
   "id": "02983e22",
   "metadata": {},
   "source": [
    "We are going to use a Hillstrom dataset from the MineThatData [hosted](https://blog.minethatdata.com/2008/03/minethatdata-e-mail-analytics-and-data.html) in march 2008 by the president of this company Kevin Hillstrom.\n",
    "\n",
    "MineThatData is a consulting company that helps CEO understand the complex relationship between Customers, Advertising, Products, Brands, and Channels."
   ]
  },
  {
   "cell_type": "markdown",
   "id": "e97e5c2e",
   "metadata": {},
   "source": [
    "### Data description\n",
    "\n",
    "✏️ Dataset can be loaded from sklift.datasets module using fetch_hillstrom function.\n",
    "\n",
    "Read more about dataset in the [api docs](https://www.uplift-modeling.com/en/latest/api/datasets/fetch_hillstrom.html).\n",
    "\n",
    "This dataset contains 64,000 customers who last purchased within twelve months. The customers were involved in an e-mail test  \n",
    "\n",
    "####  ✏️ Major columns:\n",
    "\n",
    "- `conversion` - (binary): target. 1/0 indicator, 1 = Customer purchased merchandise in the following two weeks.\n",
    "- `visit` - (binary): target. 1/0 indicator, 1 = Customer visited website in the following two weeks.\n",
    "- `spend` - (float): target. Actual dollars spent in the following two weeks.\n",
    "- `segment` - (str): treatment. The e-mail campaign the customer received\n",
    "\n",
    "Read more in the [docs](https://www.uplift-modeling.com/en/latest/api/datasets/fetch_hillstrom.html#hillstrom)\n",
    "\n",
    "There are 3 types of targets (visit/conversion/spend) that we could get, it depends from the task of the customer. We should input target in the bracket when we download dataset from the library sklift"
   ]
  },
  {
   "cell_type": "code",
   "execution_count": 4,
   "id": "c9882f49",
   "metadata": {},
   "outputs": [],
   "source": [
    "from sklift.datasets import fetch_hillstrom\n",
    "\n",
    "# returns sklearn Bunch object\n",
    "# with data, target, treatment keys\n",
    "# data features (pd.DataFrame), target (pd.Series), treatment (pd.Series) values \n",
    "dataset = fetch_hillstrom()"
   ]
  },
  {
   "cell_type": "code",
   "execution_count": 5,
   "id": "1bdea302",
   "metadata": {},
   "outputs": [
    {
     "name": "stdout",
     "output_type": "stream",
     "text": [
      "Dataset type: <class 'sklearn.utils.Bunch'>\n",
      "\n",
      "Dataset features shape: (64000, 8)\n",
      "Dataset target shape: (64000,)\n",
      "Dataset treatment shape: (64000,)\n"
     ]
    }
   ],
   "source": [
    "print(f\"Dataset type: {type(dataset)}\\n\")\n",
    "print(f\"Dataset features shape: {dataset.data.shape}\")\n",
    "print(f\"Dataset target shape: {dataset.target.shape}\")\n",
    "print(f\"Dataset treatment shape: {dataset.treatment.shape}\")"
   ]
  },
  {
   "cell_type": "markdown",
   "id": "517ed54f",
   "metadata": {},
   "source": [
    "# 📝 EDA"
   ]
  },
  {
   "cell_type": "code",
   "execution_count": 6,
   "id": "f468bf6b",
   "metadata": {},
   "outputs": [
    {
     "data": {
      "text/html": [
       "<div>\n",
       "<style scoped>\n",
       "    .dataframe tbody tr th:only-of-type {\n",
       "        vertical-align: middle;\n",
       "    }\n",
       "\n",
       "    .dataframe tbody tr th {\n",
       "        vertical-align: top;\n",
       "    }\n",
       "\n",
       "    .dataframe thead th {\n",
       "        text-align: right;\n",
       "    }\n",
       "</style>\n",
       "<table border=\"1\" class=\"dataframe\">\n",
       "  <thead>\n",
       "    <tr style=\"text-align: right;\">\n",
       "      <th></th>\n",
       "      <th>recency</th>\n",
       "      <th>history_segment</th>\n",
       "      <th>history</th>\n",
       "      <th>mens</th>\n",
       "      <th>womens</th>\n",
       "      <th>zip_code</th>\n",
       "      <th>newbie</th>\n",
       "      <th>channel</th>\n",
       "    </tr>\n",
       "  </thead>\n",
       "  <tbody>\n",
       "    <tr>\n",
       "      <th>0</th>\n",
       "      <td>10</td>\n",
       "      <td>2) $100 - $200</td>\n",
       "      <td>142.44</td>\n",
       "      <td>1</td>\n",
       "      <td>0</td>\n",
       "      <td>Surburban</td>\n",
       "      <td>0</td>\n",
       "      <td>Phone</td>\n",
       "    </tr>\n",
       "    <tr>\n",
       "      <th>1</th>\n",
       "      <td>6</td>\n",
       "      <td>3) $200 - $350</td>\n",
       "      <td>329.08</td>\n",
       "      <td>1</td>\n",
       "      <td>1</td>\n",
       "      <td>Rural</td>\n",
       "      <td>1</td>\n",
       "      <td>Web</td>\n",
       "    </tr>\n",
       "    <tr>\n",
       "      <th>2</th>\n",
       "      <td>7</td>\n",
       "      <td>2) $100 - $200</td>\n",
       "      <td>180.65</td>\n",
       "      <td>0</td>\n",
       "      <td>1</td>\n",
       "      <td>Surburban</td>\n",
       "      <td>1</td>\n",
       "      <td>Web</td>\n",
       "    </tr>\n",
       "    <tr>\n",
       "      <th>3</th>\n",
       "      <td>9</td>\n",
       "      <td>5) $500 - $750</td>\n",
       "      <td>675.83</td>\n",
       "      <td>1</td>\n",
       "      <td>0</td>\n",
       "      <td>Rural</td>\n",
       "      <td>1</td>\n",
       "      <td>Web</td>\n",
       "    </tr>\n",
       "    <tr>\n",
       "      <th>4</th>\n",
       "      <td>2</td>\n",
       "      <td>1) $0 - $100</td>\n",
       "      <td>45.34</td>\n",
       "      <td>1</td>\n",
       "      <td>0</td>\n",
       "      <td>Urban</td>\n",
       "      <td>0</td>\n",
       "      <td>Web</td>\n",
       "    </tr>\n",
       "    <tr>\n",
       "      <th>63995</th>\n",
       "      <td>10</td>\n",
       "      <td>2) $100 - $200</td>\n",
       "      <td>105.54</td>\n",
       "      <td>1</td>\n",
       "      <td>0</td>\n",
       "      <td>Urban</td>\n",
       "      <td>0</td>\n",
       "      <td>Web</td>\n",
       "    </tr>\n",
       "    <tr>\n",
       "      <th>63996</th>\n",
       "      <td>5</td>\n",
       "      <td>1) $0 - $100</td>\n",
       "      <td>38.91</td>\n",
       "      <td>0</td>\n",
       "      <td>1</td>\n",
       "      <td>Urban</td>\n",
       "      <td>1</td>\n",
       "      <td>Phone</td>\n",
       "    </tr>\n",
       "    <tr>\n",
       "      <th>63997</th>\n",
       "      <td>6</td>\n",
       "      <td>1) $0 - $100</td>\n",
       "      <td>29.99</td>\n",
       "      <td>1</td>\n",
       "      <td>0</td>\n",
       "      <td>Urban</td>\n",
       "      <td>1</td>\n",
       "      <td>Phone</td>\n",
       "    </tr>\n",
       "    <tr>\n",
       "      <th>63998</th>\n",
       "      <td>1</td>\n",
       "      <td>5) $500 - $750</td>\n",
       "      <td>552.94</td>\n",
       "      <td>1</td>\n",
       "      <td>0</td>\n",
       "      <td>Surburban</td>\n",
       "      <td>1</td>\n",
       "      <td>Multichannel</td>\n",
       "    </tr>\n",
       "    <tr>\n",
       "      <th>63999</th>\n",
       "      <td>1</td>\n",
       "      <td>4) $350 - $500</td>\n",
       "      <td>472.82</td>\n",
       "      <td>0</td>\n",
       "      <td>1</td>\n",
       "      <td>Surburban</td>\n",
       "      <td>0</td>\n",
       "      <td>Web</td>\n",
       "    </tr>\n",
       "  </tbody>\n",
       "</table>\n",
       "</div>"
      ],
      "text/plain": [
       "       recency history_segment  history  mens  womens   zip_code  newbie  \\\n",
       "0           10  2) $100 - $200   142.44     1       0  Surburban       0   \n",
       "1            6  3) $200 - $350   329.08     1       1      Rural       1   \n",
       "2            7  2) $100 - $200   180.65     0       1  Surburban       1   \n",
       "3            9  5) $500 - $750   675.83     1       0      Rural       1   \n",
       "4            2    1) $0 - $100    45.34     1       0      Urban       0   \n",
       "63995       10  2) $100 - $200   105.54     1       0      Urban       0   \n",
       "63996        5    1) $0 - $100    38.91     0       1      Urban       1   \n",
       "63997        6    1) $0 - $100    29.99     1       0      Urban       1   \n",
       "63998        1  5) $500 - $750   552.94     1       0  Surburban       1   \n",
       "63999        1  4) $350 - $500   472.82     0       1  Surburban       0   \n",
       "\n",
       "            channel  \n",
       "0             Phone  \n",
       "1               Web  \n",
       "2               Web  \n",
       "3               Web  \n",
       "4               Web  \n",
       "63995           Web  \n",
       "63996         Phone  \n",
       "63997         Phone  \n",
       "63998  Multichannel  \n",
       "63999           Web  "
      ]
     },
     "execution_count": 6,
     "metadata": {},
     "output_type": "execute_result"
    }
   ],
   "source": [
    "dataset.data.head().append(dataset.data.tail())"
   ]
  },
  {
   "cell_type": "code",
   "execution_count": 7,
   "id": "e96da0a8",
   "metadata": {},
   "outputs": [
    {
     "name": "stdout",
     "output_type": "stream",
     "text": [
      "<class 'pandas.core.frame.DataFrame'>\n",
      "RangeIndex: 64000 entries, 0 to 63999\n",
      "Data columns (total 8 columns):\n",
      " #   Column           Non-Null Count  Dtype  \n",
      "---  ------           --------------  -----  \n",
      " 0   recency          64000 non-null  int64  \n",
      " 1   history_segment  64000 non-null  object \n",
      " 2   history          64000 non-null  float64\n",
      " 3   mens             64000 non-null  int64  \n",
      " 4   womens           64000 non-null  int64  \n",
      " 5   zip_code         64000 non-null  object \n",
      " 6   newbie           64000 non-null  int64  \n",
      " 7   channel          64000 non-null  object \n",
      "dtypes: float64(1), int64(4), object(3)\n",
      "memory usage: 3.9+ MB\n"
     ]
    }
   ],
   "source": [
    "#info about types and null cells in dataset\n",
    "dataset.data.info()"
   ]
  },
  {
   "cell_type": "markdown",
   "id": "d7e509f1",
   "metadata": {},
   "source": [
    "# 📄  Categorical data"
   ]
  },
  {
   "cell_type": "code",
   "execution_count": 8,
   "id": "9dd7253f",
   "metadata": {},
   "outputs": [],
   "source": [
    "cat_features = ['channel', 'zip_code', 'history_segment', 'newbie']"
   ]
  },
  {
   "cell_type": "markdown",
   "id": "443621e7",
   "metadata": {},
   "source": [
    "**Channel**"
   ]
  },
  {
   "cell_type": "code",
   "execution_count": 9,
   "id": "cbd0fcd8",
   "metadata": {},
   "outputs": [
    {
     "data": {
      "text/plain": [
       "array(['Phone', 'Web', 'Multichannel'], dtype=object)"
      ]
     },
     "execution_count": 9,
     "metadata": {},
     "output_type": "execute_result"
    }
   ],
   "source": [
    "dataset.data.channel.unique()"
   ]
  },
  {
   "cell_type": "code",
   "execution_count": 10,
   "id": "a638b2fd",
   "metadata": {},
   "outputs": [
    {
     "data": {
      "text/plain": [
       "<AxesSubplot:>"
      ]
     },
     "execution_count": 10,
     "metadata": {},
     "output_type": "execute_result"
    },
    {
     "data": {
      "image/png": "[encoded data removed]",
      "text/plain": [
       "<Figure size 432x288 with 1 Axes>"
      ]
     },
     "metadata": {
      "needs_background": "light"
     },
     "output_type": "display_data"
    }
   ],
   "source": [
    "dataset.data.channel.value_counts().plot(kind = 'bar', grid=True)"
   ]
  },
  {
   "cell_type": "markdown",
   "id": "37991502",
   "metadata": {},
   "source": [
    "**Zip code**"
   ]
  },
  {
   "cell_type": "code",
   "execution_count": 11,
   "id": "765cd3f1",
   "metadata": {},
   "outputs": [
    {
     "data": {
      "text/plain": [
       "array(['Surburban', 'Rural', 'Urban'], dtype=object)"
      ]
     },
     "execution_count": 11,
     "metadata": {},
     "output_type": "execute_result"
    }
   ],
   "source": [
    "dataset.data.zip_code.unique()"
   ]
  },
  {
   "cell_type": "code",
   "execution_count": 12,
   "id": "b44a7f47",
   "metadata": {},
   "outputs": [
    {
     "data": {
      "text/plain": [
       "<AxesSubplot:>"
      ]
     },
     "execution_count": 12,
     "metadata": {},
     "output_type": "execute_result"
    },
    {
     "data": {
      "image/png": "[encoded data removed]",
      "text/plain": [
       "<Figure size 432x288 with 1 Axes>"
      ]
     },
     "metadata": {
      "needs_background": "light"
     },
     "output_type": "display_data"
    }
   ],
   "source": [
    "dataset.data.zip_code.value_counts().plot(kind = 'bar', grid=True)"
   ]
  },
  {
   "cell_type": "markdown",
   "id": "6483e5e8",
   "metadata": {},
   "source": [
    "**History segment**"
   ]
  },
  {
   "cell_type": "code",
   "execution_count": 13,
   "id": "cbbe9e89",
   "metadata": {},
   "outputs": [
    {
     "data": {
      "text/plain": [
       "array(['2) $100 - $200', '3) $200 - $350', '5) $500 - $750',\n",
       "       '1) $0 - $100', '6) $750 - $1,000', '4) $350 - $500',\n",
       "       '7) $1,000 +'], dtype=object)"
      ]
     },
     "execution_count": 13,
     "metadata": {},
     "output_type": "execute_result"
    }
   ],
   "source": [
    "dataset.data.history_segment.unique()"
   ]
  },
  {
   "cell_type": "code",
   "execution_count": 14,
   "id": "2c53d180",
   "metadata": {},
   "outputs": [
    {
     "data": {
      "text/plain": [
       "<AxesSubplot:>"
      ]
     },
     "execution_count": 14,
     "metadata": {},
     "output_type": "execute_result"
    },
    {
     "data": {
      "image/png": "[encoded data removed]",
      "text/plain": [
       "<Figure size 432x288 with 1 Axes>"
      ]
     },
     "metadata": {
      "needs_background": "light"
     },
     "output_type": "display_data"
    }
   ],
   "source": [
    "dataset.data.history_segment.value_counts().plot(kind = 'bar', grid=True)"
   ]
  },
  {
   "cell_type": "code",
   "execution_count": 15,
   "id": "3c2aca87",
   "metadata": {},
   "outputs": [
    {
     "data": {
      "text/plain": [
       "<AxesSubplot:>"
      ]
     },
     "execution_count": 15,
     "metadata": {},
     "output_type": "execute_result"
    },
    {
     "data": {
      "image/png": "[encoded data removed]",
      "text/plain": [
       "<Figure size 432x288 with 1 Axes>"
      ]
     },
     "metadata": {
      "needs_background": "light"
     },
     "output_type": "display_data"
    }
   ],
   "source": [
    "dataset.data.womens.value_counts().plot(kind = 'bar', grid=True)"
   ]
  },
  {
   "cell_type": "code",
   "execution_count": 16,
   "id": "2e99e8a5",
   "metadata": {},
   "outputs": [
    {
     "data": {
      "text/plain": [
       "<AxesSubplot:>"
      ]
     },
     "execution_count": 16,
     "metadata": {},
     "output_type": "execute_result"
    },
    {
     "data": {
      "image/png": "[encoded data removed]",
      "text/plain": [
       "<Figure size 432x288 with 1 Axes>"
      ]
     },
     "metadata": {
      "needs_background": "light"
     },
     "output_type": "display_data"
    }
   ],
   "source": [
    "dataset.data.mens.value_counts().plot(kind = 'bar', grid=True)"
   ]
  },
  {
   "cell_type": "code",
   "execution_count": 17,
   "id": "82ca1614",
   "metadata": {},
   "outputs": [
    {
     "data": {
      "text/plain": [
       "1    35182\n",
       "0    28818\n",
       "Name: womens, dtype: int64"
      ]
     },
     "execution_count": 17,
     "metadata": {},
     "output_type": "execute_result"
    }
   ],
   "source": [
    "dataset.data.womens.value_counts()"
   ]
  },
  {
   "cell_type": "code",
   "execution_count": 18,
   "id": "c66258e5",
   "metadata": {},
   "outputs": [
    {
     "data": {
      "text/plain": [
       "womens\n",
       "0    45.028125\n",
       "1    54.971875\n",
       "dtype: float64"
      ]
     },
     "execution_count": 18,
     "metadata": {},
     "output_type": "execute_result"
    }
   ],
   "source": [
    "dataset.data.groupby('womens').size()/dataset.data['womens'].count()*100"
   ]
  },
  {
   "cell_type": "markdown",
   "id": "5aed1905",
   "metadata": {},
   "source": [
    "- `55%` - womens purchases\n",
    "- `44%` - mens purchases"
   ]
  },
  {
   "cell_type": "code",
   "execution_count": 19,
   "id": "e829d37b",
   "metadata": {},
   "outputs": [
    {
     "data": {
      "text/plain": [
       "1    35266\n",
       "0    28734\n",
       "Name: mens, dtype: int64"
      ]
     },
     "execution_count": 19,
     "metadata": {},
     "output_type": "execute_result"
    }
   ],
   "source": [
    "dataset.data.mens.value_counts()"
   ]
  },
  {
   "cell_type": "code",
   "execution_count": 20,
   "id": "eaa81820",
   "metadata": {},
   "outputs": [
    {
     "data": {
      "text/plain": [
       "mens\n",
       "0    44.896875\n",
       "1    55.103125\n",
       "dtype: float64"
      ]
     },
     "execution_count": 20,
     "metadata": {},
     "output_type": "execute_result"
    }
   ],
   "source": [
    "dataset.data.groupby('mens').size()/dataset.data['mens'].count()*100"
   ]
  },
  {
   "cell_type": "markdown",
   "id": "2349e910",
   "metadata": {},
   "source": [
    "- `55%` - mens purchases\n",
    "- `44%` - womens purchases"
   ]
  },
  {
   "cell_type": "code",
   "execution_count": 21,
   "id": "bb32fa92",
   "metadata": {},
   "outputs": [
    {
     "data": {
      "image/png": "[encoded data removed]",
      "text/plain": [
       "<Figure size 1008x576 with 2 Axes>"
      ]
     },
     "metadata": {
      "needs_background": "light"
     },
     "output_type": "display_data"
    }
   ],
   "source": [
    "plt.figure(figsize = (14,8))\n",
    "\n",
    "sns.set()\n",
    "sns.heatmap(dataset.data.corr().round(3), annot=True, square = True, linewidths=.75, cmap='RdPu', fmt = '.2f',annot_kws = {\"size\": 10} )\n",
    "\n",
    "plt.title('Correlation matrix')\n",
    "plt.show()"
   ]
  },
  {
   "cell_type": "markdown",
   "id": "aa0b2435",
   "metadata": {},
   "source": [
    "- Womens and mens are in inverse correlation. I propose to make 1 column \"gender\" and merge."
   ]
  },
  {
   "cell_type": "markdown",
   "id": "9ca9101c",
   "metadata": {},
   "source": [
    "- As we can see, there is high correlation between \"history_segment\" and \"history\". Could we merge it also and transform columns to numeric data?"
   ]
  },
  {
   "cell_type": "markdown",
   "id": "83160e2c",
   "metadata": {},
   "source": [
    "# 📄 Numeric data"
   ]
  },
  {
   "cell_type": "code",
   "execution_count": 22,
   "id": "6ce14108",
   "metadata": {},
   "outputs": [
    {
     "data": {
      "text/plain": [
       "<AxesSubplot:>"
      ]
     },
     "execution_count": 22,
     "metadata": {},
     "output_type": "execute_result"
    },
    {
     "data": {
      "image/png": "[encoded data removed]",
      "text/plain": [
       "<Figure size 576x288 with 1 Axes>"
      ]
     },
     "metadata": {},
     "output_type": "display_data"
    }
   ],
   "source": [
    "dataset.data.loc[:, 'recency'].hist(figsize=(8, 4), bins=12, grid=True)"
   ]
  },
  {
   "cell_type": "code",
   "execution_count": 23,
   "id": "cb95b5c2",
   "metadata": {},
   "outputs": [
    {
     "data": {
      "text/plain": [
       "29.99     7947\n",
       "81.20        9\n",
       "53.79        9\n",
       "60.51        8\n",
       "88.09        8\n",
       "          ... \n",
       "200.53       1\n",
       "234.76       1\n",
       "239.91       1\n",
       "99.85        1\n",
       "738.50       1\n",
       "Name: history, Length: 34833, dtype: int64"
      ]
     },
     "execution_count": 23,
     "metadata": {},
     "output_type": "execute_result"
    }
   ],
   "source": [
    "dataset.data.history.value_counts()"
   ]
  },
  {
   "cell_type": "code",
   "execution_count": 24,
   "id": "7739b8d2",
   "metadata": {},
   "outputs": [
    {
     "data": {
      "image/png": "[encoded data removed]",
      "text/plain": [
       "<Figure size 576x288 with 1 Axes>"
      ]
     },
     "metadata": {},
     "output_type": "display_data"
    }
   ],
   "source": [
    "dataset.data.loc[:, 'history'].hist(figsize=(8, 4), bins=20, grid=True);"
   ]
  },
  {
   "cell_type": "code",
   "execution_count": 25,
   "id": "0009afc4",
   "metadata": {},
   "outputs": [],
   "source": [
    "dataset.data['history_log'] = np.log(dataset.data['history'] + 1.1)"
   ]
  },
  {
   "cell_type": "code",
   "execution_count": 26,
   "id": "e11fa9ca",
   "metadata": {},
   "outputs": [
    {
     "data": {
      "image/png": "[encoded data removed]",
      "text/plain": [
       "<Figure size 576x288 with 1 Axes>"
      ]
     },
     "metadata": {},
     "output_type": "display_data"
    }
   ],
   "source": [
    "dataset.data.loc[:, 'history_log'].hist(figsize=(8, 4), bins=20, grid=True);"
   ]
  },
  {
   "cell_type": "code",
   "execution_count": 27,
   "id": "f99160f9",
   "metadata": {},
   "outputs": [],
   "source": [
    "numeric_features = ['history_log', 'recency']"
   ]
  },
  {
   "cell_type": "code",
   "execution_count": 28,
   "id": "8ec394d6",
   "metadata": {},
   "outputs": [
    {
     "data": {
      "text/plain": [
       "['recency',\n",
       " 'history_segment',\n",
       " 'history',\n",
       " 'mens',\n",
       " 'womens',\n",
       " 'zip_code',\n",
       " 'newbie',\n",
       " 'channel',\n",
       " 'history_log']"
      ]
     },
     "execution_count": 28,
     "metadata": {},
     "output_type": "execute_result"
    }
   ],
   "source": [
    "dataset.data.columns.to_list()"
   ]
  },
  {
   "cell_type": "code",
   "execution_count": 29,
   "id": "6951a5ee",
   "metadata": {},
   "outputs": [],
   "source": [
    "final_features = ['recency', 'history_segment', 'mens', 'womens', 'zip_code', 'newbie', 'channel', 'history_log']"
   ]
  },
  {
   "cell_type": "markdown",
   "id": "a6d14da2",
   "metadata": {},
   "source": [
    "# 🎯 Target data"
   ]
  },
  {
   "cell_type": "markdown",
   "id": "a17b48db",
   "metadata": {},
   "source": [
    "Let's segment dataset data"
   ]
  },
  {
   "cell_type": "code",
   "execution_count": 30,
   "id": "2a6cc7c9",
   "metadata": {},
   "outputs": [
    {
     "data": {
      "text/plain": [
       "0    Womens E-Mail\n",
       "1        No E-Mail\n",
       "2    Womens E-Mail\n",
       "3      Mens E-Mail\n",
       "4    Womens E-Mail\n",
       "Name: segment, dtype: object"
      ]
     },
     "execution_count": 30,
     "metadata": {},
     "output_type": "execute_result"
    }
   ],
   "source": [
    "dataset.treatment.head()"
   ]
  },
  {
   "cell_type": "code",
   "execution_count": 31,
   "id": "ef7aa5d4",
   "metadata": {},
   "outputs": [
    {
     "data": {
      "text/plain": [
       "array(['Womens E-Mail', 'No E-Mail', 'Mens E-Mail'], dtype=object)"
      ]
     },
     "execution_count": 31,
     "metadata": {},
     "output_type": "execute_result"
    }
   ],
   "source": [
    "dataset.treatment.unique()"
   ]
  },
  {
   "cell_type": "code",
   "execution_count": 32,
   "id": "229b6409",
   "metadata": {},
   "outputs": [
    {
     "data": {
      "text/plain": [
       "<AxesSubplot:>"
      ]
     },
     "execution_count": 32,
     "metadata": {},
     "output_type": "execute_result"
    },
    {
     "data": {
      "image/png": "[encoded data removed]",
      "text/plain": [
       "<Figure size 432x288 with 1 Axes>"
      ]
     },
     "metadata": {},
     "output_type": "display_data"
    }
   ],
   "source": [
    "dataset.treatment.value_counts().plot(kind = 'bar', grid = 'True')"
   ]
  },
  {
   "cell_type": "code",
   "execution_count": 33,
   "id": "78f3f7e8",
   "metadata": {},
   "outputs": [
    {
     "data": {
      "text/plain": [
       "0    0\n",
       "1    0\n",
       "2    0\n",
       "3    0\n",
       "4    0\n",
       "Name: visit, dtype: int64"
      ]
     },
     "execution_count": 33,
     "metadata": {},
     "output_type": "execute_result"
    }
   ],
   "source": [
    "dataset.target.head()"
   ]
  },
  {
   "cell_type": "code",
   "execution_count": 34,
   "id": "777b3584",
   "metadata": {},
   "outputs": [
    {
     "data": {
      "text/plain": [
       "<AxesSubplot:>"
      ]
     },
     "execution_count": 34,
     "metadata": {},
     "output_type": "execute_result"
    },
    {
     "data": {
      "image/png": "[encoded data removed]",
      "text/plain": [
       "<Figure size 432x288 with 1 Axes>"
      ]
     },
     "metadata": {},
     "output_type": "display_data"
    }
   ],
   "source": [
    "dataset.target.value_counts().plot(kind = 'bar')"
   ]
  },
  {
   "cell_type": "markdown",
   "id": "f331cdf9",
   "metadata": {},
   "source": [
    "Target is disbalanced"
   ]
  },
  {
   "cell_type": "code",
   "execution_count": 35,
   "id": "dc53d3d6",
   "metadata": {},
   "outputs": [
    {
     "data": {
      "text/html": [
       "<div>\n",
       "<style scoped>\n",
       "    .dataframe tbody tr th:only-of-type {\n",
       "        vertical-align: middle;\n",
       "    }\n",
       "\n",
       "    .dataframe tbody tr th {\n",
       "        vertical-align: top;\n",
       "    }\n",
       "\n",
       "    .dataframe thead th {\n",
       "        text-align: right;\n",
       "    }\n",
       "</style>\n",
       "<table border=\"1\" class=\"dataframe\">\n",
       "  <thead>\n",
       "    <tr style=\"text-align: right;\">\n",
       "      <th>visit</th>\n",
       "      <th>0</th>\n",
       "      <th>1</th>\n",
       "    </tr>\n",
       "    <tr>\n",
       "      <th>segment</th>\n",
       "      <th></th>\n",
       "      <th></th>\n",
       "    </tr>\n",
       "  </thead>\n",
       "  <tbody>\n",
       "    <tr>\n",
       "      <th>Mens E-Mail</th>\n",
       "      <td>0.817243</td>\n",
       "      <td>0.182757</td>\n",
       "    </tr>\n",
       "    <tr>\n",
       "      <th>No E-Mail</th>\n",
       "      <td>0.893833</td>\n",
       "      <td>0.106167</td>\n",
       "    </tr>\n",
       "    <tr>\n",
       "      <th>Womens E-Mail</th>\n",
       "      <td>0.848600</td>\n",
       "      <td>0.151400</td>\n",
       "    </tr>\n",
       "  </tbody>\n",
       "</table>\n",
       "</div>"
      ],
      "text/plain": [
       "visit                 0         1\n",
       "segment                          \n",
       "Mens E-Mail    0.817243  0.182757\n",
       "No E-Mail      0.893833  0.106167\n",
       "Womens E-Mail  0.848600  0.151400"
      ]
     },
     "execution_count": 35,
     "metadata": {},
     "output_type": "execute_result"
    }
   ],
   "source": [
    "import pandas as pd \n",
    "\n",
    "pd.crosstab(dataset.treatment, dataset.target, normalize='index')"
   ]
  },
  {
   "cell_type": "code",
   "execution_count": 36,
   "id": "e1422eb7",
   "metadata": {},
   "outputs": [
    {
     "data": {
      "text/plain": [
       "array([0, 1], dtype=int64)"
      ]
     },
     "execution_count": 36,
     "metadata": {},
     "output_type": "execute_result"
    }
   ],
   "source": [
    "dataset.target.unique()"
   ]
  },
  {
   "cell_type": "code",
   "execution_count": 37,
   "id": "bcc5192b",
   "metadata": {},
   "outputs": [
    {
     "data": {
      "text/plain": [
       "Text(0.5, 1.0, 'Treatment & Target')"
      ]
     },
     "execution_count": 37,
     "metadata": {},
     "output_type": "execute_result"
    },
    {
     "data": {
      "image/png": "[encoded data removed]",
      "text/plain": [
       "<Figure size 432x288 with 2 Axes>"
      ]
     },
     "metadata": {},
     "output_type": "display_data"
    }
   ],
   "source": [
    "crosstab = pd.crosstab(dataset.treatment, dataset.target, normalize='index')\n",
    "    \n",
    "sns.heatmap(crosstab, annot=True, fmt=\".2f\", linewidths=1, square = True, cmap = 'RdPu')\n",
    "plt.xlabel('Target')\n",
    "plt.title(\"Treatment & Target\")"
   ]
  },
  {
   "cell_type": "markdown",
   "id": "6a1f69fc",
   "metadata": {},
   "source": [
    "There are two cases:\n",
    "- `Womens E-mail - No E-mail`\n",
    "- `Mens E-mail - No E-mail`\n",
    "\n",
    "In our tutorial we perform with first. The second you could explore by yourself."
   ]
  },
  {
   "cell_type": "markdown",
   "id": "0ee63ffc",
   "metadata": {},
   "source": [
    "## Womens E-mail - No E-mail"
   ]
  },
  {
   "cell_type": "code",
   "execution_count": 38,
   "id": "00d59845",
   "metadata": {},
   "outputs": [],
   "source": [
    "# make treatment binary\n",
    "treat_dict_womens = {\n",
    "            'Womens E-Mail': 1,\n",
    "            'No E-Mail': 0, \n",
    "            'Mens E-Mail': 0\n",
    "            }\n",
    "dataset.treatment_womens = dataset.treatment.map(treat_dict_womens)"
   ]
  },
  {
   "cell_type": "code",
   "execution_count": 39,
   "id": "38975696",
   "metadata": {},
   "outputs": [
    {
     "data": {
      "text/plain": [
       "<AxesSubplot:>"
      ]
     },
     "execution_count": 39,
     "metadata": {},
     "output_type": "execute_result"
    },
    {
     "data": {
      "image/png": "[encoded data removed]",
      "text/plain": [
       "<Figure size 432x288 with 1 Axes>"
      ]
     },
     "metadata": {},
     "output_type": "display_data"
    }
   ],
   "source": [
    "dataset.treatment_womens.value_counts().plot(kind = 'bar', grid = 'True')"
   ]
  },
  {
   "cell_type": "code",
   "execution_count": 40,
   "id": "30893b76",
   "metadata": {},
   "outputs": [],
   "source": [
    "stratify_cols = pd.concat([dataset.treatment_womens, dataset.target], axis=1)"
   ]
  },
  {
   "cell_type": "code",
   "execution_count": 41,
   "id": "bef56cf6",
   "metadata": {},
   "outputs": [
    {
     "data": {
      "text/html": [
       "<div>\n",
       "<style scoped>\n",
       "    .dataframe tbody tr th:only-of-type {\n",
       "        vertical-align: middle;\n",
       "    }\n",
       "\n",
       "    .dataframe tbody tr th {\n",
       "        vertical-align: top;\n",
       "    }\n",
       "\n",
       "    .dataframe thead th {\n",
       "        text-align: right;\n",
       "    }\n",
       "</style>\n",
       "<table border=\"1\" class=\"dataframe\">\n",
       "  <thead>\n",
       "    <tr style=\"text-align: right;\">\n",
       "      <th></th>\n",
       "      <th>segment</th>\n",
       "      <th>visit</th>\n",
       "    </tr>\n",
       "  </thead>\n",
       "  <tbody>\n",
       "    <tr>\n",
       "      <th>0</th>\n",
       "      <td>1</td>\n",
       "      <td>0</td>\n",
       "    </tr>\n",
       "    <tr>\n",
       "      <th>1</th>\n",
       "      <td>0</td>\n",
       "      <td>0</td>\n",
       "    </tr>\n",
       "  </tbody>\n",
       "</table>\n",
       "</div>"
      ],
      "text/plain": [
       "   segment  visit\n",
       "0        1      0\n",
       "1        0      0"
      ]
     },
     "execution_count": 41,
     "metadata": {},
     "output_type": "execute_result"
    }
   ],
   "source": [
    "stratify_cols.head(2)"
   ]
  },
  {
   "cell_type": "code",
   "execution_count": 42,
   "id": "0e52cefe",
   "metadata": {},
   "outputs": [
    {
     "name": "stdout",
     "output_type": "stream",
     "text": [
      "Train shape: (44800, 9)\n",
      "Validation shape: (19200, 9)\n"
     ]
    }
   ],
   "source": [
    "from sklearn.model_selection import train_test_split\n",
    "\n",
    "stratify_cols = pd.concat([dataset.treatment_womens, dataset.target], axis=1)\n",
    "\n",
    "X_train, X_val, trmnt_train, trmnt_val, y_train, y_val = train_test_split(\n",
    "    dataset.data,\n",
    "    dataset.treatment_womens,\n",
    "    dataset.target,\n",
    "    stratify=stratify_cols,\n",
    "    test_size=0.3,\n",
    "    random_state=42\n",
    ")\n",
    "\n",
    "print(f\"Train shape: {X_train.shape}\")\n",
    "print(f\"Validation shape: {X_val.shape}\")"
   ]
  },
  {
   "cell_type": "code",
   "execution_count": 43,
   "id": "c8b0523d",
   "metadata": {},
   "outputs": [],
   "source": [
    "from sklift.models import ClassTransformation\n",
    "from catboost import CatBoostClassifier\n",
    "\n",
    "estimator = CatBoostClassifier(verbose=100, \n",
    "                               cat_features=cat_features,\n",
    "                               random_state=42,\n",
    "                               thread_count=1\n",
    "                              )\n",
    "\n",
    "ct_model = ClassTransformation(estimator=estimator)"
   ]
  },
  {
   "cell_type": "code",
   "execution_count": 44,
   "id": "b6b47265",
   "metadata": {},
   "outputs": [
    {
     "name": "stderr",
     "output_type": "stream",
     "text": [
      "<ipython-input-44-cd313cbcd08e>:1: UserWarning: It is recommended to use this approach on treatment balanced data. Current sample size is unbalanced.\n",
      "  ct_model.fit(\n"
     ]
    },
    {
     "name": "stdout",
     "output_type": "stream",
     "text": [
      "Learning rate set to 0.052243\n",
      "0:\tlearn: 0.6899802\ttotal: 438ms\tremaining: 7m 18s\n",
      "100:\tlearn: 0.6609514\ttotal: 14.1s\tremaining: 2m 5s\n",
      "200:\tlearn: 0.6590899\ttotal: 28.2s\tremaining: 1m 51s\n",
      "300:\tlearn: 0.6567741\ttotal: 44.3s\tremaining: 1m 42s\n",
      "400:\tlearn: 0.6542030\ttotal: 1m 1s\tremaining: 1m 31s\n",
      "500:\tlearn: 0.6519431\ttotal: 1m 17s\tremaining: 1m 17s\n",
      "600:\tlearn: 0.6499765\ttotal: 1m 33s\tremaining: 1m 2s\n",
      "700:\tlearn: 0.6479570\ttotal: 1m 51s\tremaining: 47.6s\n",
      "800:\tlearn: 0.6456324\ttotal: 2m 8s\tremaining: 31.9s\n",
      "900:\tlearn: 0.6436541\ttotal: 2m 25s\tremaining: 16s\n",
      "999:\tlearn: 0.6416725\ttotal: 2m 42s\tremaining: 0us\n"
     ]
    },
    {
     "data": {
      "text/plain": [
       "ClassTransformation(estimator=<catboost.core.CatBoostClassifier object at 0x00000291EC76FCD0>)"
      ]
     },
     "execution_count": 44,
     "metadata": {},
     "output_type": "execute_result"
    }
   ],
   "source": [
    "ct_model.fit(\n",
    "    X=X_train, \n",
    "    y=y_train, \n",
    "    treatment=trmnt_train\n",
    ")"
   ]
  },
  {
   "cell_type": "code",
   "execution_count": 45,
   "id": "1eae8382",
   "metadata": {},
   "outputs": [],
   "source": [
    "from sklift.metrics import uplift_at_k"
   ]
  },
  {
   "cell_type": "code",
   "execution_count": 46,
   "id": "da7c489e",
   "metadata": {},
   "outputs": [],
   "source": [
    "uplift_predictions = ct_model.predict(X_val)"
   ]
  },
  {
   "cell_type": "code",
   "execution_count": 47,
   "id": "56c39c27",
   "metadata": {},
   "outputs": [
    {
     "name": "stdout",
     "output_type": "stream",
     "text": [
      "uplift@10%: 0.0162 (sort groups by uplift together)\n",
      "uplift@10%: 0.0192 (sort groups by uplift separately)\n"
     ]
    }
   ],
   "source": [
    "# k = 10%\n",
    "k = 0.1  \n",
    "\n",
    "# strategy='overall' sort by uplift treatment and control together\n",
    "uplift_overall = uplift_at_k(y_val, uplift_predictions, trmnt_val, strategy='overall', k=k)\n",
    "\n",
    "# strategy='by_group' sort by uplift treatment and control separately\n",
    "uplift_bygroup = uplift_at_k(y_val, uplift_predictions, trmnt_val, strategy='by_group', k=k)\n",
    "\n",
    "\n",
    "print(f\"uplift@{k * 100:.0f}%: {uplift_overall:.4f} (sort groups by uplift together)\")\n",
    "print(f\"uplift@{k * 100:.0f}%: {uplift_bygroup:.4f} (sort groups by uplift separately)\")"
   ]
  },
  {
   "cell_type": "markdown",
   "id": "e84867d2",
   "metadata": {},
   "source": [
    "# 🎯 Adversarial validation "
   ]
  },
  {
   "cell_type": "markdown",
   "id": "42438771",
   "metadata": {},
   "source": [
    "The general idea of adversarial validation is to check the degree of similarity between training and tests in terms of feature distribution: if they are difficult to distinguish, the distribution is probably similar and the usual validation techniques should work"
   ]
  },
  {
   "cell_type": "code",
   "execution_count": 93,
   "id": "bee7b6a2",
   "metadata": {},
   "outputs": [],
   "source": [
    "train_proportion = 0.7\n",
    "train_test_cut = int(dataset.data.shape[0] * train_proportion)"
   ]
  },
  {
   "cell_type": "code",
   "execution_count": 100,
   "id": "2bdbcf43",
   "metadata": {},
   "outputs": [],
   "source": [
    "dataset.data.loc[:train_test_cut, 'dataset_label'] = 0"
   ]
  },
  {
   "cell_type": "code",
   "execution_count": 101,
   "id": "bd788227",
   "metadata": {},
   "outputs": [],
   "source": [
    "dataset.data.loc[train_test_cut:, 'dataset_label'] = 1"
   ]
  },
  {
   "cell_type": "code",
   "execution_count": 108,
   "id": "8075b15a",
   "metadata": {},
   "outputs": [],
   "source": [
    "target = 'dataset_label'"
   ]
  },
  {
   "cell_type": "code",
   "execution_count": 112,
   "id": "4b6c468f",
   "metadata": {},
   "outputs": [],
   "source": [
    "df_train = dataset.data[:train_test_cut] "
   ]
  },
  {
   "cell_type": "code",
   "execution_count": 113,
   "id": "f840e966",
   "metadata": {},
   "outputs": [],
   "source": [
    "df_test = dataset.data[train_test_cut:] "
   ]
  },
  {
   "cell_type": "code",
   "execution_count": 116,
   "id": "df188f77",
   "metadata": {},
   "outputs": [],
   "source": [
    "from catboost import Pool"
   ]
  },
  {
   "cell_type": "markdown",
   "id": "c7c7544c",
   "metadata": {},
   "source": [
    "This is the target that we’ll train a model to predict. Right now, the train and test datasets are separate, and each dataset has only one label for the target value. If we trained a model on this training set, it would just learn that everything was 0. We want to instead shuffle the train and test datasets, and then create new datasets for fitting and evaluating the adversarial validation model. I define a function for combining, shuffling, and re-splitting:"
   ]
  },
  {
   "cell_type": "code",
   "execution_count": 117,
   "id": "8c96050e",
   "metadata": {},
   "outputs": [],
   "source": [
    "def create_adversarial_data(df_train, df_test, cols, N_val=6400):\n",
    "    df_master = pd.concat([df_train[cols], df_test[cols]], axis=0)\n",
    "    adversarial_val = df_master.sample(N_val, replace=False)\n",
    "    adversarial_train = df_master[~df_master.index.isin(adversarial_val.index)]\n",
    "    return adversarial_train, adversarial_val"
   ]
  },
  {
   "cell_type": "code",
   "execution_count": 118,
   "id": "80f446a3",
   "metadata": {},
   "outputs": [],
   "source": [
    "final_features = ['recency', 'history_segment', 'mens', 'womens', 'zip_code', 'newbie', 'channel', 'history_log']"
   ]
  },
  {
   "cell_type": "code",
   "execution_count": 119,
   "id": "e8c2cc41",
   "metadata": {},
   "outputs": [],
   "source": [
    "features = final_features\n",
    "all_cols = features + [target]\n",
    "adversarial_train, adversarial_test = create_adversarial_data(df_train, df_test, all_cols)"
   ]
  },
  {
   "cell_type": "code",
   "execution_count": 120,
   "id": "7e3e6574",
   "metadata": {},
   "outputs": [],
   "source": [
    "train_data = Pool(\n",
    "    data=adversarial_train[features],\n",
    "    label=adversarial_train[target],\n",
    "    cat_features=cat_features\n",
    ")\n",
    "holdout_data = Pool(\n",
    "    data=adversarial_test[features],\n",
    "    label=adversarial_test[target],\n",
    "    cat_features=cat_features\n",
    ")"
   ]
  },
  {
   "cell_type": "code",
   "execution_count": 121,
   "id": "164d5393",
   "metadata": {},
   "outputs": [
    {
     "name": "stdout",
     "output_type": "stream",
     "text": [
      "Learning rate set to 0.234819\n",
      "0:\ttest: 0.5130548\tbest: 0.5130548 (0)\ttotal: 113ms\tremaining: 11.2s\n",
      "1:\ttest: 0.5109823\tbest: 0.5130548 (0)\ttotal: 179ms\tremaining: 8.79s\n",
      "2:\ttest: 0.5080080\tbest: 0.5130548 (0)\ttotal: 251ms\tremaining: 8.1s\n",
      "3:\ttest: 0.5121898\tbest: 0.5130548 (0)\ttotal: 317ms\tremaining: 7.6s\n",
      "4:\ttest: 0.5092711\tbest: 0.5130548 (0)\ttotal: 380ms\tremaining: 7.22s\n",
      "5:\ttest: 0.5082763\tbest: 0.5130548 (0)\ttotal: 436ms\tremaining: 6.83s\n",
      "6:\ttest: 0.5078603\tbest: 0.5130548 (0)\ttotal: 491ms\tremaining: 6.52s\n",
      "7:\ttest: 0.5078408\tbest: 0.5130548 (0)\ttotal: 521ms\tremaining: 5.99s\n",
      "8:\ttest: 0.5072985\tbest: 0.5130548 (0)\ttotal: 589ms\tremaining: 5.96s\n",
      "9:\ttest: 0.5073745\tbest: 0.5130548 (0)\ttotal: 626ms\tremaining: 5.64s\n",
      "10:\ttest: 0.5076422\tbest: 0.5130548 (0)\ttotal: 657ms\tremaining: 5.31s\n",
      "11:\ttest: 0.5077096\tbest: 0.5130548 (0)\ttotal: 723ms\tremaining: 5.3s\n",
      "12:\ttest: 0.5079760\tbest: 0.5130548 (0)\ttotal: 787ms\tremaining: 5.27s\n",
      "13:\ttest: 0.5079760\tbest: 0.5130548 (0)\ttotal: 812ms\tremaining: 4.99s\n",
      "14:\ttest: 0.5078911\tbest: 0.5130548 (0)\ttotal: 901ms\tremaining: 5.11s\n",
      "15:\ttest: 0.5085221\tbest: 0.5130548 (0)\ttotal: 962ms\tremaining: 5.05s\n",
      "16:\ttest: 0.5085221\tbest: 0.5130548 (0)\ttotal: 998ms\tremaining: 4.87s\n",
      "17:\ttest: 0.5088082\tbest: 0.5130548 (0)\ttotal: 1.07s\tremaining: 4.87s\n",
      "18:\ttest: 0.5102033\tbest: 0.5130548 (0)\ttotal: 1.11s\tremaining: 4.75s\n",
      "19:\ttest: 0.5102033\tbest: 0.5130548 (0)\ttotal: 1.14s\tremaining: 4.57s\n",
      "20:\ttest: 0.5091191\tbest: 0.5130548 (0)\ttotal: 1.17s\tremaining: 4.39s\n",
      "21:\ttest: 0.5099598\tbest: 0.5130548 (0)\ttotal: 1.23s\tremaining: 4.34s\n",
      "22:\ttest: 0.5099598\tbest: 0.5130548 (0)\ttotal: 1.25s\tremaining: 4.18s\n",
      "23:\ttest: 0.5124841\tbest: 0.5130548 (0)\ttotal: 1.31s\tremaining: 4.16s\n",
      "24:\ttest: 0.5124841\tbest: 0.5130548 (0)\ttotal: 1.34s\tremaining: 4.02s\n",
      "25:\ttest: 0.5124841\tbest: 0.5130548 (0)\ttotal: 1.37s\tremaining: 3.89s\n",
      "26:\ttest: 0.5126382\tbest: 0.5130548 (0)\ttotal: 1.42s\tremaining: 3.85s\n",
      "27:\ttest: 0.5127858\tbest: 0.5130548 (0)\ttotal: 1.48s\tremaining: 3.81s\n",
      "28:\ttest: 0.5130221\tbest: 0.5130548 (0)\ttotal: 1.54s\tremaining: 3.77s\n",
      "29:\ttest: 0.5125187\tbest: 0.5130548 (0)\ttotal: 1.61s\tremaining: 3.75s\n",
      "30:\ttest: 0.5119062\tbest: 0.5130548 (0)\ttotal: 1.67s\tremaining: 3.71s\n",
      "31:\ttest: 0.5119062\tbest: 0.5130548 (0)\ttotal: 1.71s\tremaining: 3.63s\n",
      "32:\ttest: 0.5119065\tbest: 0.5130548 (0)\ttotal: 1.76s\tremaining: 3.58s\n",
      "33:\ttest: 0.5119168\tbest: 0.5130548 (0)\ttotal: 1.83s\tremaining: 3.54s\n",
      "34:\ttest: 0.5119168\tbest: 0.5130548 (0)\ttotal: 1.88s\tremaining: 3.49s\n",
      "35:\ttest: 0.5119277\tbest: 0.5130548 (0)\ttotal: 1.94s\tremaining: 3.44s\n",
      "36:\ttest: 0.5143258\tbest: 0.5143258 (36)\ttotal: 2s\tremaining: 3.41s\n",
      "37:\ttest: 0.5145906\tbest: 0.5145906 (37)\ttotal: 2.07s\tremaining: 3.37s\n",
      "38:\ttest: 0.5150807\tbest: 0.5150807 (38)\ttotal: 2.12s\tremaining: 3.32s\n",
      "39:\ttest: 0.5150807\tbest: 0.5150807 (38)\ttotal: 2.15s\tremaining: 3.22s\n",
      "40:\ttest: 0.5150807\tbest: 0.5150807 (38)\ttotal: 2.17s\tremaining: 3.12s\n",
      "41:\ttest: 0.5139849\tbest: 0.5150807 (38)\ttotal: 2.23s\tremaining: 3.08s\n",
      "42:\ttest: 0.5136584\tbest: 0.5150807 (38)\ttotal: 2.29s\tremaining: 3.04s\n",
      "43:\ttest: 0.5139842\tbest: 0.5150807 (38)\ttotal: 2.36s\tremaining: 3.01s\n",
      "44:\ttest: 0.5153170\tbest: 0.5153170 (44)\ttotal: 2.43s\tremaining: 2.97s\n",
      "45:\ttest: 0.5150217\tbest: 0.5153170 (44)\ttotal: 2.49s\tremaining: 2.93s\n",
      "46:\ttest: 0.5151375\tbest: 0.5153170 (44)\ttotal: 2.56s\tremaining: 2.89s\n",
      "47:\ttest: 0.5155845\tbest: 0.5155845 (47)\ttotal: 2.61s\tremaining: 2.83s\n",
      "48:\ttest: 0.5156149\tbest: 0.5156149 (48)\ttotal: 2.67s\tremaining: 2.78s\n",
      "49:\ttest: 0.5170975\tbest: 0.5170975 (49)\ttotal: 2.73s\tremaining: 2.73s\n",
      "50:\ttest: 0.5172240\tbest: 0.5172240 (50)\ttotal: 2.8s\tremaining: 2.69s\n",
      "51:\ttest: 0.5172212\tbest: 0.5172240 (50)\ttotal: 2.85s\tremaining: 2.63s\n",
      "52:\ttest: 0.5172322\tbest: 0.5172322 (52)\ttotal: 2.91s\tremaining: 2.58s\n",
      "53:\ttest: 0.5166552\tbest: 0.5172322 (52)\ttotal: 2.97s\tremaining: 2.53s\n",
      "54:\ttest: 0.5166552\tbest: 0.5172322 (52)\ttotal: 3s\tremaining: 2.46s\n",
      "55:\ttest: 0.5148724\tbest: 0.5172322 (52)\ttotal: 3.06s\tremaining: 2.4s\n",
      "56:\ttest: 0.5147731\tbest: 0.5172322 (52)\ttotal: 3.12s\tremaining: 2.35s\n",
      "57:\ttest: 0.5149763\tbest: 0.5172322 (52)\ttotal: 3.17s\tremaining: 2.3s\n",
      "58:\ttest: 0.5149423\tbest: 0.5172322 (52)\ttotal: 3.24s\tremaining: 2.25s\n",
      "59:\ttest: 0.5155427\tbest: 0.5172322 (52)\ttotal: 3.3s\tremaining: 2.2s\n",
      "60:\ttest: 0.5155427\tbest: 0.5172322 (52)\ttotal: 3.36s\tremaining: 2.15s\n",
      "61:\ttest: 0.5155542\tbest: 0.5172322 (52)\ttotal: 3.42s\tremaining: 2.1s\n",
      "62:\ttest: 0.5156125\tbest: 0.5172322 (52)\ttotal: 3.48s\tremaining: 2.05s\n",
      "63:\ttest: 0.5154880\tbest: 0.5172322 (52)\ttotal: 3.55s\tremaining: 2s\n",
      "64:\ttest: 0.5140872\tbest: 0.5172322 (52)\ttotal: 3.6s\tremaining: 1.94s\n",
      "65:\ttest: 0.5139578\tbest: 0.5172322 (52)\ttotal: 3.66s\tremaining: 1.89s\n",
      "66:\ttest: 0.5134700\tbest: 0.5172322 (52)\ttotal: 3.72s\tremaining: 1.83s\n",
      "67:\ttest: 0.5134209\tbest: 0.5172322 (52)\ttotal: 3.79s\tremaining: 1.78s\n",
      "68:\ttest: 0.5137175\tbest: 0.5172322 (52)\ttotal: 3.85s\tremaining: 1.73s\n",
      "69:\ttest: 0.5145397\tbest: 0.5172322 (52)\ttotal: 3.91s\tremaining: 1.67s\n",
      "70:\ttest: 0.5151316\tbest: 0.5172322 (52)\ttotal: 3.97s\tremaining: 1.62s\n",
      "71:\ttest: 0.5151316\tbest: 0.5172322 (52)\ttotal: 4.03s\tremaining: 1.57s\n",
      "72:\ttest: 0.5154323\tbest: 0.5172322 (52)\ttotal: 4.09s\tremaining: 1.51s\n",
      "73:\ttest: 0.5154323\tbest: 0.5172322 (52)\ttotal: 4.14s\tremaining: 1.46s\n",
      "74:\ttest: 0.5154456\tbest: 0.5172322 (52)\ttotal: 4.21s\tremaining: 1.4s\n",
      "75:\ttest: 0.5154456\tbest: 0.5172322 (52)\ttotal: 4.27s\tremaining: 1.35s\n",
      "76:\ttest: 0.5156375\tbest: 0.5172322 (52)\ttotal: 4.32s\tremaining: 1.29s\n",
      "77:\ttest: 0.5158455\tbest: 0.5172322 (52)\ttotal: 4.38s\tremaining: 1.24s\n",
      "78:\ttest: 0.5158064\tbest: 0.5172322 (52)\ttotal: 4.44s\tremaining: 1.18s\n",
      "79:\ttest: 0.5158064\tbest: 0.5172322 (52)\ttotal: 4.51s\tremaining: 1.13s\n",
      "80:\ttest: 0.5164766\tbest: 0.5172322 (52)\ttotal: 4.57s\tremaining: 1.07s\n",
      "81:\ttest: 0.5137400\tbest: 0.5172322 (52)\ttotal: 4.63s\tremaining: 1.01s\n",
      "82:\ttest: 0.5150029\tbest: 0.5172322 (52)\ttotal: 4.69s\tremaining: 960ms\n",
      "83:\ttest: 0.5159938\tbest: 0.5172322 (52)\ttotal: 4.75s\tremaining: 905ms\n",
      "84:\ttest: 0.5133364\tbest: 0.5172322 (52)\ttotal: 4.81s\tremaining: 849ms\n",
      "85:\ttest: 0.5127295\tbest: 0.5172322 (52)\ttotal: 4.87s\tremaining: 792ms\n",
      "86:\ttest: 0.5128319\tbest: 0.5172322 (52)\ttotal: 4.93s\tremaining: 738ms\n",
      "87:\ttest: 0.5128633\tbest: 0.5172322 (52)\ttotal: 5.01s\tremaining: 683ms\n",
      "88:\ttest: 0.5127721\tbest: 0.5172322 (52)\ttotal: 5.07s\tremaining: 627ms\n",
      "89:\ttest: 0.5128172\tbest: 0.5172322 (52)\ttotal: 5.14s\tremaining: 571ms\n",
      "90:\ttest: 0.5128195\tbest: 0.5172322 (52)\ttotal: 5.21s\tremaining: 515ms\n",
      "91:\ttest: 0.5128195\tbest: 0.5172322 (52)\ttotal: 5.27s\tremaining: 458ms\n",
      "92:\ttest: 0.5126648\tbest: 0.5172322 (52)\ttotal: 5.36s\tremaining: 403ms\n",
      "93:\ttest: 0.5122866\tbest: 0.5172322 (52)\ttotal: 5.45s\tremaining: 348ms\n",
      "94:\ttest: 0.5119554\tbest: 0.5172322 (52)\ttotal: 5.54s\tremaining: 291ms\n",
      "95:\ttest: 0.5118455\tbest: 0.5172322 (52)\ttotal: 5.6s\tremaining: 233ms\n",
      "96:\ttest: 0.5119052\tbest: 0.5172322 (52)\ttotal: 5.67s\tremaining: 175ms\n",
      "97:\ttest: 0.5125816\tbest: 0.5172322 (52)\ttotal: 5.72s\tremaining: 117ms\n",
      "98:\ttest: 0.5126916\tbest: 0.5172322 (52)\ttotal: 5.78s\tremaining: 58.4ms\n",
      "99:\ttest: 0.5133625\tbest: 0.5172322 (52)\ttotal: 5.84s\tremaining: 0us\n",
      "\n",
      "bestTest = 0.5172322343\n",
      "bestIteration = 52\n",
      "\n",
      "Shrink model to first 53 iterations.\n"
     ]
    }
   ],
   "source": [
    "params = {\n",
    "    'iterations': 100,\n",
    "    'eval_metric': 'AUC',\n",
    "    'od_type': 'Iter',\n",
    "    'od_wait': 50,\n",
    "}\n",
    "\n",
    "model = CatBoostClassifier(**params)\n",
    "_ = model.fit(train_data, eval_set=holdout_data)"
   ]
  },
  {
   "cell_type": "code",
   "execution_count": 122,
   "id": "34ca0539",
   "metadata": {},
   "outputs": [],
   "source": [
    "from sklearn.metrics import roc_curve, roc_auc_score"
   ]
  },
  {
   "cell_type": "code",
   "execution_count": 123,
   "id": "49bd16cf",
   "metadata": {},
   "outputs": [],
   "source": [
    "def plot_roc(y_trues, y_preds, labels, x_max=1.0):\n",
    "    fig, ax = plt.subplots()\n",
    "    for i, y_pred in enumerate(y_preds):\n",
    "        y_true = y_trues[i]\n",
    "        fpr, tpr, thresholds = roc_curve(y_true, y_pred)\n",
    "        auc = roc_auc_score(y_true, y_pred)\n",
    "        ax.plot(fpr, tpr, label='%s; AUC=%.3f' % (labels[i], auc), marker='o', markersize=1)\n",
    "\n",
    "    ax.legend()\n",
    "    ax.grid()\n",
    "    ax.plot(np.linspace(0, 1, 20), np.linspace(0, 1, 20), linestyle='--')\n",
    "    ax.set_title('ROC curve')\n",
    "    ax.set_xlabel('False Positive Rate')\n",
    "    ax.set_xlim([-0.01, x_max])\n",
    "    _ = ax.set_ylabel('True Positive Rate')"
   ]
  },
  {
   "cell_type": "code",
   "execution_count": 124,
   "id": "be78be7c",
   "metadata": {},
   "outputs": [
    {
     "data": {
      "image/png": "[encoded data removed]",
      "text/plain": [
       "<Figure size 432x288 with 1 Axes>"
      ]
     },
     "metadata": {},
     "output_type": "display_data"
    }
   ],
   "source": [
    "plot_roc(\n",
    "    [holdout_data.get_label()],\n",
    "    [model.predict_proba(holdout_data)[:,1]],\n",
    "    ['Baseline']\n",
    ")"
   ]
  },
  {
   "cell_type": "markdown",
   "id": "f1539290",
   "metadata": {},
   "source": [
    "The ROC curve above is for the validation dataset and the values come close to 50% which indicates that it is difficult to distinguish between train and test set and they come from the same distribution.\n"
   ]
  },
  {
   "cell_type": "markdown",
   "id": "cf20f332",
   "metadata": {},
   "source": [
    "`So, in this case, our usual method for stratified train validation split should work fine and will perform equally well on the unseen test set`."
   ]
  },
  {
   "cell_type": "code",
   "execution_count": null,
   "id": "7da9aae1",
   "metadata": {},
   "outputs": [],
   "source": []
  }
 ],
 "metadata": {
  "kernelspec": {
   "display_name": "Python 3",
   "language": "python",
   "name": "python3"
  },
  "language_info": {
   "codemirror_mode": {
    "name": "ipython",
    "version": 3
   },
   "file_extension": ".py",
   "mimetype": "text/x-python",
   "name": "python",
   "nbconvert_exporter": "python",
   "pygments_lexer": "ipython3",
   "version": "3.9.6"
  }
 },
 "nbformat": 4,
 "nbformat_minor": 5
}
